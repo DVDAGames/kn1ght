{
 "cells": [
  {
   "cell_type": "code",
   "execution_count": 1,
   "metadata": {},
   "outputs": [],
   "source": [
    "%%capture\n",
    "!uv pip install polars"
   ]
  },
  {
   "cell_type": "code",
   "execution_count": 2,
   "metadata": {},
   "outputs": [],
   "source": [
    "import polars as pl"
   ]
  },
  {
   "cell_type": "code",
   "execution_count": 4,
   "metadata": {},
   "outputs": [],
   "source": [
    "df = pl.read_csv(\"../data/chess_games_2025-01-15.csv\", null_values=[\"None\"])"
   ]
  },
  {
   "cell_type": "code",
   "execution_count": 5,
   "metadata": {},
   "outputs": [
    {
     "data": {
      "text/html": [
       "<div><style>\n",
       ".dataframe > thead > tr,\n",
       ".dataframe > tbody > tr {\n",
       "  text-align: right;\n",
       "  white-space: pre-wrap;\n",
       "}\n",
       "</style>\n",
       "<small>shape: (5, 5)</small><table border=\"1\" class=\"dataframe\"><thead><tr><th>Date</th><th>Result</th><th>WhiteElo</th><th>BlackElo</th><th>PGN</th></tr><tr><td>str</td><td>str</td><td>i64</td><td>i64</td><td>str</td></tr></thead><tbody><tr><td>&quot;2000.03.14&quot;</td><td>&quot;1-0&quot;</td><td>2851</td><td>null</td><td>&quot;1.d4 d5 2.c4 e6 3.Nc3 Nf6 4.cx…</td></tr><tr><td>&quot;2000.03.14&quot;</td><td>&quot;1-0&quot;</td><td>2851</td><td>null</td><td>&quot;1.e4 d5 2.exd5 Qxd5 3.Nc3 Qa5 …</td></tr><tr><td>&quot;1999.11.20&quot;</td><td>&quot;1-0&quot;</td><td>2851</td><td>null</td><td>&quot;1.e4 e5 2.Nf3 Nc6 3.Bc4 Bc5 4.…</td></tr><tr><td>&quot;1999.11.20&quot;</td><td>&quot;1-0&quot;</td><td>2851</td><td>null</td><td>&quot;1.e4 d5 2.exd5 Qxd5 3.Nc3 Qa5 …</td></tr><tr><td>&quot;2000.02.20&quot;</td><td>&quot;1/2-1/2&quot;</td><td>2851</td><td>2633</td><td>&quot;1.e4 e5 2.Nf3 Nc6 3.Bb5 a6 4.B…</td></tr></tbody></table></div>"
      ],
      "text/plain": [
       "shape: (5, 5)\n",
       "┌────────────┬─────────┬──────────┬──────────┬─────────────────────────────────┐\n",
       "│ Date       ┆ Result  ┆ WhiteElo ┆ BlackElo ┆ PGN                             │\n",
       "│ ---        ┆ ---     ┆ ---      ┆ ---      ┆ ---                             │\n",
       "│ str        ┆ str     ┆ i64      ┆ i64      ┆ str                             │\n",
       "╞════════════╪═════════╪══════════╪══════════╪═════════════════════════════════╡\n",
       "│ 2000.03.14 ┆ 1-0     ┆ 2851     ┆ null     ┆ 1.d4 d5 2.c4 e6 3.Nc3 Nf6 4.cx… │\n",
       "│ 2000.03.14 ┆ 1-0     ┆ 2851     ┆ null     ┆ 1.e4 d5 2.exd5 Qxd5 3.Nc3 Qa5 … │\n",
       "│ 1999.11.20 ┆ 1-0     ┆ 2851     ┆ null     ┆ 1.e4 e5 2.Nf3 Nc6 3.Bc4 Bc5 4.… │\n",
       "│ 1999.11.20 ┆ 1-0     ┆ 2851     ┆ null     ┆ 1.e4 d5 2.exd5 Qxd5 3.Nc3 Qa5 … │\n",
       "│ 2000.02.20 ┆ 1/2-1/2 ┆ 2851     ┆ 2633     ┆ 1.e4 e5 2.Nf3 Nc6 3.Bb5 a6 4.B… │\n",
       "└────────────┴─────────┴──────────┴──────────┴─────────────────────────────────┘"
      ]
     },
     "execution_count": 5,
     "metadata": {},
     "output_type": "execute_result"
    }
   ],
   "source": [
    "df.head()"
   ]
  },
  {
   "cell_type": "code",
   "execution_count": 89,
   "metadata": {},
   "outputs": [],
   "source": [
    "test_game = df.select(\"PGN\")[0].item()"
   ]
  },
  {
   "cell_type": "code",
   "execution_count": 90,
   "metadata": {},
   "outputs": [
    {
     "name": "stdout",
     "output_type": "stream",
     "text": [
      "1.d4 d5 2.c4 e6 3.Nc3 Nf6 4.cxd5 exd5 5.Bg5 Be7 6.e3 Ne4 7.Bxe7 Nxc3 8.Bxd8 Nxd1 9.Bxc7 Nxb2 10.Rb1 Nc4 11.Bxc4 dxc4 12.Ne2 O-O 13.Nc3 b6 14.d5 Na6 15.Bd6 Rd8 16.Ba3 Bb7 17.e4 f6 18.Ke2 Nc7 19.Rhd1 Ba6 20.Ke3 Kf7 21.g4 g5 22.h4 h6 23.Rh1 Re8 24.f3 Bb7 25.hxg5 fxg5 26.d6 Nd5+ 27.Nxd5 Bxd5 28.Rxh6 c3 29.d7 Re6 30.Rh7+ Kg8 31.Rbh1 Bc6 32.Rh8+ Kf7 33.Rxa8 Bxd7 34.Rh7+ \n",
      "length:  367\n",
      "[49, 46, 100, 52, 32, 100, 53, 32, 50, 46, 99, 52, 32, 101, 54, 32, 51, 46, 78, 99, 51, 32, 78, 102, 54, 32, 52, 46, 99, 120, 100, 53, 32, 101, 120, 100, 53, 32, 53, 46, 66, 103, 53, 32, 66, 101, 55, 32, 54, 46, 101, 51, 32, 78, 101, 52, 32, 55, 46, 66, 120, 101, 55, 32, 78, 120, 99, 51, 32, 56, 46, 66, 120, 100, 56, 32, 78, 120, 100, 49, 32, 57, 46, 66, 120, 99, 55, 32, 78, 120, 98, 50, 32, 49, 48, 46, 82, 98, 49, 32, 78, 99, 52, 32, 49, 49, 46, 66, 120, 99, 52, 32, 100, 120, 99, 52, 32, 49, 50, 46, 78, 101, 50, 32, 79, 45, 79, 32, 49, 51, 46, 78, 99, 51, 32, 98, 54, 32, 49, 52, 46, 100, 53, 32, 78, 97, 54, 32, 49, 53, 46, 66, 100, 54, 32, 82, 100, 56, 32, 49, 54, 46, 66, 97, 51, 32, 66, 98, 55, 32, 49, 55, 46, 101, 52, 32, 102, 54, 32, 49, 56, 46, 75, 101, 50, 32, 78, 99, 55, 32, 49, 57, 46, 82, 104, 100, 49, 32, 66, 97, 54, 32, 50, 48, 46, 75, 101, 51, 32, 75, 102, 55, 32, 50, 49, 46, 103, 52, 32, 103, 53, 32, 50, 50, 46, 104, 52, 32, 104, 54, 32, 50, 51, 46, 82, 104, 49, 32, 82, 101, 56, 32, 50, 52, 46, 102, 51, 32, 66, 98, 55, 32, 50, 53, 46, 104, 120, 103, 53, 32, 102, 120, 103, 53, 32, 50, 54, 46, 100, 54, 32, 78, 100, 53, 43, 32, 50, 55, 46, 78, 120, 100, 53, 32, 66, 120, 100, 53, 32, 50, 56, 46, 82, 120, 104, 54, 32, 99, 51, 32, 50, 57, 46, 100, 55, 32, 82, 101, 54, 32, 51, 48, 46, 82, 104, 55, 43, 32, 75, 103, 56, 32, 51, 49, 46, 82, 98, 104, 49, 32, 66, 99, 54, 32, 51, 50, 46, 82, 104, 56, 43, 32, 75, 102, 55, 32, 51, 51, 46, 82, 120, 97, 56, 32, 66, 120, 100, 55, 32, 51, 52, 46, 82, 104, 55, 43, 32]\n",
      "length: 367\n"
     ]
    }
   ],
   "source": [
    "tokens = test_game.encode(\"utf-8\")\n",
    "token_ids = list(map(int, tokens))\n",
    "\n",
    "print(test_game)\n",
    "print(\"length: \", len(test_game))\n",
    "print(token_ids)\n",
    "print(\"length:\", len(token_ids))"
   ]
  },
  {
   "cell_type": "code",
   "execution_count": 91,
   "metadata": {},
   "outputs": [],
   "source": [
    "# get the most common pair of tokens\n",
    "def find_token_pairs(ids):\n",
    "    counts = {}\n",
    "\n",
    "    # get pairs of tokens\n",
    "    for pair in zip(ids, ids[1:]):\n",
    "        if pair not in counts:\n",
    "            counts[pair] = 1\n",
    "        else:\n",
    "            counts[pair] += 1\n",
    "\n",
    "    return counts"
   ]
  },
  {
   "cell_type": "code",
   "execution_count": 92,
   "metadata": {},
   "outputs": [
    {
     "name": "stdout",
     "output_type": "stream",
     "text": [
      "[60, 124, 115, 116, 97, 114, 116, 103, 97, 109, 101, 124, 62]\n",
      "[60, 124, 101, 110, 100, 103, 97, 109, 101, 124, 62]\n"
     ]
    }
   ],
   "source": [
    "data_start = \"<|startgame|>\"\n",
    "data_end = \"<|endgame|>\"\n",
    "\n",
    "data_start_tokens = data_start.encode(\"utf-8\")\n",
    "data_end_tokens = data_end.encode(\"utf-8\")\n",
    "\n",
    "data_start_token_ids = list(map(int, data_start_tokens))\n",
    "data_end_token_ids = list(map(int, data_end_tokens))\n",
    "\n",
    "print(data_start_token_ids)\n",
    "print(data_end_token_ids)\n",
    "\n",
    "tokenizer_special_tokens = {\n",
    "    \"startgame\": data_start,\n",
    "    \"endgame\": data_end,\n",
    "}"
   ]
  },
  {
   "cell_type": "code",
   "execution_count": 93,
   "metadata": {},
   "outputs": [
    {
     "name": "stdout",
     "output_type": "stream",
     "text": [
      "[(12, (54, 32)), (11, (32, 50)), (10, (55, 32)), (10, (53, 32)), (10, (32, 49)), (9, (52, 32)), (9, (46, 82)), (9, (32, 78)), (8, (51, 32)), (7, (120, 100)), (7, (100, 53)), (7, (46, 66)), (7, (32, 66)), (6, (66, 120)), (6, (32, 51)), (5, (82, 104)), (5, (56, 32)), (5, (49, 32)), (4, (120, 99)), (4, (103, 53)), (4, (99, 52)), (4, (99, 51)), (4, (78, 120)), (4, (78, 99)), (4, (52, 46)), (4, (51, 46)), (4, (50, 46)), (4, (49, 46)), (4, (46, 100)), (4, (46, 78)), (4, (43, 32)), (3, (57, 46)), (3, (56, 46)), (3, (55, 46)), (3, (54, 46)), (3, (53, 46)), (3, (50, 32)), (3, (48, 46)), (3, (32, 82)), (3, (32, 75)), (2, (120, 103)), (2, (104, 55)), (2, (104, 54)), (2, (104, 49)), (2, (102, 55)), (2, (102, 54)), (2, (101, 55)), (2, (101, 54)), (2, (101, 52)), (2, (101, 51)), (2, (101, 50)), (2, (100, 56)), (2, (100, 55)), (2, (100, 54)), (2, (100, 49)), (2, (99, 55)), (2, (98, 55)), (2, (97, 54)), (2, (82, 120)), (2, (82, 101)), (2, (82, 98)), (2, (78, 101)), (2, (75, 102)), (2, (75, 101)), (2, (66, 98)), (2, (66, 97)), (2, (55, 43)), (2, (46, 104)), (2, (46, 101)), (2, (46, 99)), (2, (46, 75)), (2, (32, 102)), (2, (32, 101)), (2, (32, 100)), (1, (120, 104)), (1, (120, 101)), (1, (120, 98)), (1, (120, 97)), (1, (104, 120)), (1, (104, 100)), (1, (104, 56)), (1, (104, 52)), (1, (103, 56)), (1, (103, 52)), (1, (102, 120)), (1, (102, 51)), (1, (101, 120)), (1, (101, 56)), (1, (100, 120)), (1, (100, 52)), (1, (99, 120)), (1, (99, 54)), (1, (98, 104)), (1, (98, 54)), (1, (98, 50)), (1, (98, 49)), (1, (97, 56)), (1, (97, 51)), (1, (82, 100)), (1, (79, 45)), (1, (79, 32)), (1, (78, 102)), (1, (78, 100)), (1, (78, 97)), (1, (75, 103)), (1, (66, 103)), (1, (66, 101)), (1, (66, 100)), (1, (66, 99)), (1, (56, 43)), (1, (53, 43)), (1, (51, 52)), (1, (51, 51)), (1, (51, 50)), (1, (51, 49)), (1, (51, 48)), (1, (50, 57)), (1, (50, 56)), (1, (50, 55)), (1, (50, 54)), (1, (50, 53)), (1, (50, 52)), (1, (50, 51)), (1, (50, 50)), (1, (50, 49)), (1, (50, 48)), (1, (49, 57)), (1, (49, 56)), (1, (49, 55)), (1, (49, 54)), (1, (49, 53)), (1, (49, 52)), (1, (49, 51)), (1, (49, 50)), (1, (49, 49)), (1, (49, 48)), (1, (46, 103)), (1, (46, 102)), (1, (45, 79)), (1, (32, 104)), (1, (32, 103)), (1, (32, 99)), (1, (32, 98)), (1, (32, 79)), (1, (32, 57)), (1, (32, 56)), (1, (32, 55)), (1, (32, 54)), (1, (32, 53)), (1, (32, 52))]\n"
     ]
    }
   ],
   "source": [
    "token_pairs = find_token_pairs(token_ids)\n",
    "\n",
    "# print(tokenPairs)\n",
    "print(sorted(((v, k) for k, v in token_pairs.items()), reverse=True))"
   ]
  },
  {
   "cell_type": "code",
   "execution_count": 94,
   "metadata": {},
   "outputs": [
    {
     "data": {
      "text/plain": [
       "(54, 32)"
      ]
     },
     "execution_count": 94,
     "metadata": {},
     "output_type": "execute_result"
    }
   ],
   "source": [
    "top_pair = max(token_pairs, key=token_pairs.get)\n",
    "top_pair"
   ]
  },
  {
   "cell_type": "code",
   "execution_count": 95,
   "metadata": {},
   "outputs": [],
   "source": [
    "def merge_pairs(ids, pair, idx):\n",
    "    new_ids = []\n",
    "\n",
    "    i = 0\n",
    "\n",
    "    while i < len(ids):\n",
    "        if i < len(ids) - 1 and ids[i] == pair[0] and ids[i + 1] == pair[1]:\n",
    "            new_ids.append(idx)\n",
    "            i += 2\n",
    "        else:\n",
    "            new_ids.append(ids[i])\n",
    "            i += 1\n",
    "\n",
    "        return new_ids"
   ]
  },
  {
   "cell_type": "code",
   "execution_count": 96,
   "metadata": {},
   "outputs": [
    {
     "name": "stdout",
     "output_type": "stream",
     "text": [
      "[49]\n",
      "length: 1\n"
     ]
    }
   ],
   "source": [
    "tokens2 = merge_pairs(token_ids, top_pair, 256)\n",
    "\n",
    "print(tokens2)\n",
    "print(\"length:\", len(tokens2))"
   ]
  },
  {
   "cell_type": "code",
   "execution_count": 103,
   "metadata": {},
   "outputs": [],
   "source": [
    "sample = df.select(\"PGN\").sample(n=20)"
   ]
  },
  {
   "cell_type": "code",
   "execution_count": 104,
   "metadata": {},
   "outputs": [],
   "source": [
    "text = \"\"\n",
    "\n",
    "for game in sample.iter_rows():\n",
    "    if game[0]:\n",
    "        text += game[0].strip() + \"\\n\""
   ]
  },
  {
   "cell_type": "code",
   "execution_count": 105,
   "metadata": {},
   "outputs": [],
   "source": [
    "text_tokens = text.encode(\"utf-8\")\n",
    "text_tokens = list(map(int, text_tokens))"
   ]
  },
  {
   "cell_type": "code",
   "execution_count": 108,
   "metadata": {},
   "outputs": [
    {
     "name": "stdout",
     "output_type": "stream",
     "text": [
      "merge (52, 32) into a new token 256\n",
      "merge (53, 32) into a new token 257\n",
      "merge (51, 32) into a new token 258\n",
      "merge (54, 32) into a new token 259\n",
      "merge (46, 78) into a new token 260\n",
      "merge (50, 32) into a new token 261\n",
      "merge (55, 32) into a new token 262\n",
      "merge (46, 66) into a new token 263\n",
      "merge (46, 82) into a new token 264\n",
      "merge (46, 81) into a new token 265\n",
      "merge (49, 32) into a new token 266\n",
      "merge (56, 32) into a new token 267\n",
      "merge (43, 32) into a new token 268\n",
      "merge (102, 258) into a new token 269\n",
      "merge (120, 100) into a new token 270\n",
      "merge (120, 101) into a new token 271\n",
      "merge (102, 259) into a new token 272\n",
      "merge (257, 50) into a new token 273\n",
      "merge (46, 75) into a new token 274\n",
      "merge (79, 45) into a new token 275\n",
      "merge (257, 49) into a new token 276\n",
      "merge (275, 79) into a new token 277\n",
      "merge (277, 32) into a new token 278\n",
      "merge (120, 103) into a new token 279\n",
      "merge (99, 259) into a new token 280\n",
      "merge (99, 256) into a new token 281\n",
      "merge (49, 46) into a new token 282\n",
      "merge (99, 258) into a new token 283\n",
      "merge (120, 102) into a new token 284\n",
      "merge (267, 50) into a new token 285\n",
      "merge (257, 51) into a new token 286\n",
      "merge (100, 262) into a new token 287\n",
      "merge (259, 49) into a new token 288\n",
      "merge (101, 261) into a new token 289\n",
      "merge (270, 256) into a new token 290\n",
      "merge (100, 256) into a new token 291\n",
      "merge (268, 75) into a new token 292\n",
      "merge (53, 46) into a new token 293\n",
      "merge (78, 272) into a new token 294\n",
      "merge (100, 261) into a new token 295\n",
      "merge (267, 49) into a new token 296\n",
      "merge (52, 46) into a new token 297\n",
      "merge (103, 257) into a new token 298\n",
      "merge (101, 262) into a new token 299\n",
      "merge (271, 256) into a new token 300\n",
      "merge (266, 81) into a new token 301\n",
      "merge (120, 98) into a new token 302\n",
      "merge (260, 269) into a new token 303\n",
      "merge (103, 258) into a new token 304\n",
      "merge (101, 259) into a new token 305\n",
      "merge (48, 46) into a new token 306\n",
      "merge (66, 103) into a new token 307\n",
      "merge (51, 46) into a new token 308\n",
      "merge (102, 256) into a new token 309\n",
      "merge (101, 256) into a new token 310\n",
      "merge (57, 46) into a new token 311\n",
      "merge (101, 258) into a new token 312\n",
      "merge (261, 81) into a new token 313\n",
      "merge (264, 102) into a new token 314\n",
      "merge (10, 282) into a new token 315\n",
      "merge (54, 263) into a new token 316\n",
      "merge (260, 283) into a new token 317\n",
      "merge (50, 46) into a new token 318\n",
      "merge (51, 263) into a new token 319\n",
      "merge (104, 259) into a new token 320\n",
      "merge (120, 97) into a new token 321\n",
      "merge (104, 258) into a new token 322\n",
      "merge (49, 265) into a new token 323\n",
      "merge (55, 46) into a new token 324\n",
      "merge (56, 46) into a new token 325\n",
      "merge (262, 51) into a new token 326\n",
      "merge (264, 97) into a new token 327\n",
      "merge (98, 256) into a new token 328\n",
      "merge (100, 259) into a new token 329\n",
      "merge (82, 103) into a new token 330\n",
      "merge (101, 257) into a new token 331\n",
      "merge (100, 257) into a new token 332\n",
      "merge (98, 258) into a new token 333\n",
      "merge (56, 260) into a new token 334\n",
      "merge (82, 101) into a new token 335\n",
      "merge (99, 266) into a new token 336\n",
      "merge (267, 51) into a new token 337\n",
      "merge (120, 281) into a new token 338\n",
      "merge (103, 261) into a new token 339\n",
      "merge (54, 46) into a new token 340\n",
      "merge (55, 263) into a new token 341\n",
      "merge (78, 98) into a new token 342\n",
      "merge (104, 256) into a new token 343\n",
      "merge (49, 264) into a new token 344\n",
      "merge (54, 260) into a new token 345\n",
      "merge (53, 260) into a new token 346\n",
      "merge (56, 263) into a new token 347\n",
      "merge (262, 49) into a new token 348\n",
      "merge (97, 256) into a new token 349\n"
     ]
    }
   ],
   "source": [
    "def get_stats(ids):\n",
    "    counts = {}\n",
    "    for pair in zip(ids, ids[1:]):\n",
    "        counts[pair] = counts.get(pair, 0) + 1\n",
    "    return counts\n",
    "\n",
    "\n",
    "def merge_pairs(ids, pair, idx):\n",
    "    new_ids = []\n",
    "    i = 0\n",
    "    while i < len(ids):\n",
    "        if i < len(ids) - 1 and ids[i] == pair[0] and ids[i + 1] == pair[1]:\n",
    "            new_ids.append(idx)\n",
    "            i += 2\n",
    "        else:\n",
    "            new_ids.append(ids[i])\n",
    "            i += 1\n",
    "    return new_ids\n",
    "\n",
    "\n",
    "vocab_size = 350\n",
    "number_of_merges = vocab_size - 256\n",
    "ids = list(text_tokens)\n",
    "\n",
    "merges = {}\n",
    "\n",
    "for i in range(number_of_merges):\n",
    "    stats = get_stats(ids)\n",
    "    pair = max(stats, key=stats.get)\n",
    "    idx = 256 + i\n",
    "    print(f\"merge {pair} into a new token {idx}\")\n",
    "    ids = merge_pairs(ids, pair, idx)\n",
    "    merges[pair] = idx"
   ]
  },
  {
   "cell_type": "code",
   "execution_count": 109,
   "metadata": {},
   "outputs": [
    {
     "name": "stdout",
     "output_type": "stream",
     "text": [
      "text length: 7463\n",
      "tokens length: 7463\n",
      "ids length: 3896\n",
      "compression ratio: 1.92\n"
     ]
    }
   ],
   "source": [
    "print(\"text length:\", len(text))\n",
    "print(\"tokens length:\", len(text_tokens))\n",
    "print(\"ids length:\", len(ids))\n",
    "print(f\"compression ratio: {len(text_tokens) / len(ids):.2f}\")"
   ]
  },
  {
   "cell_type": "code",
   "execution_count": 115,
   "metadata": {},
   "outputs": [
    {
     "data": {
      "text/plain": [
       "'1.d4 d5 2.Nf3 Bf5 3.g3 c6 4.Bg2 e6 5.O-O Nf6 6.b3 Bd6 7.Bb2 Nbd7 8.Nbd2 O-O 9.Nh4 Re8 10.c4 Rc8 11.Rc1 Bg4 12.f3 Bh5 13.f4 Ng4 14.Rc3 g5 15.fxg5 Qxg5 16.Ndf3 Qe7 17.Bc1 Ndf6 18.h3 Ne4 19.hxg4 Nxc3 20.Qd3 Bxg4 21.Qxc3 Bxg3 22.Bg5 f6 23.Bd2 Bxh4 24.Nxh4 Bxe2 25.Rf2 Bh5 26.Qh3 Kh8 27.Bf3 Rg8+ 28.Rg2 Rxg2+ 29.Kxg2 Rg8+ 30.Kf2 Bxf3 31.Nxf3 f5 32.Bf4 Rg6 33.Ne5 Rg7 34.Bh6 Rg8 35.Qh5 Qe8 36.Nf7+ Qxf7\\n1.d4 d5 2.Nf3 Nf6 3.g3 c6 4.Bg2 Bf5 5.Nbd2 h6 6.O-O e6 7.b3 Bd6 8.Bb2 O-O 9.Ne5 Nbd7 10.f3 Qc7 11.Nxd7 Nxd7 12.e4 dxe4 13.fxe4 Bg6 14.e5 Be7 15.c3 c5 16.Nc4 Rad8 17.Qe2 Nb6 18.Ne3 Rd7 19.Rad1 Rc8 20.h4 Re8 21.Kh2 Bf8 22.a4 Red8 23.a5 Nc8 24.a6 bxa6 25.Qxa6 Qb8 26.Qa2 Ne7 27.Rf2 Nf5 28.Nxf5 Bxf5 29.Rfd2 Bg4 30.Re1 Qb6 31.Qa4 cxd4 32.Rxd4 Rxd4 33.cxd4 Rc8 34.d5 Qf2 35.Rf1 Qe2 36.Bd4 exd5 37.Qxa7 Be6 38.Rf2 Qd1 39.Qa4 Rc4 40.Rf1 Qc2 41.Qa7 Qxb3 42.Rf2 Qd1 43.Bb2 Bc5 44.Qb8+ Kh7 45.Rf1 Qd2 46.Bc1 Rxc1\\n1.e4 e5 2.Nf3 Nc6 3.Bc4 Bc5 4.O-O Nf6 5.d3 d6 6.Ng5 O-O 7.Nf3 Bg4 8.h3 Bh5 9.Bg5 h6 10.Bxf6 Qxf6 11.Re1 Nd4 12.Nbd2 Bb6 13.c3 Nxf3+ 14.Nxf3 Qg6 15.g4 Bxg4 16.hxg4 Qxg4+ 17.Kf1 c6 18.b4 Qh3+ 19.Ke2 Qg2 20.Rg1 Qh2 21.Nxh2 Rfd8 22.Qd2 d5 23.Qxh6 g6 24.exd5 cxd5 25.Bb3 d4 26.cxd4 Bxd4 27.Rxg6#\\n1.e4 e5 2.Nf3 d6 3.d4 Nc6 4.d5 Nb8 5.c4 Be7 6.Nc3 Nf6 7.Bd3 O-O 8.O-O Bg4 9.h3 Bh5 10.g4 Bg6 11.Be3 c5 12.Nh4 Nxg4 13.Nxg6 Nxe3 14.Nxe7+ Qxe7 15.fxe3 Qg5+ 16.Kh2 Qxe3 17.Qf3 Qh6 18.Nb5 Nd7 19.Rf2 a6 20.Nc3 Nf6 21.Rg1 Nh5 22.Ne2 b5 23.Ng3 Nxg3 24.Qxg3 bxc4 25.Bxc4 Ra7 26.Qg5 Qxg5 27.Rxg5 f6 28.Rg3 a5 29.Rb3 Rd8 30.Rb6 Kf7 31.Rf3 a4 32.Ra3 Ke7 33.Bb5 Rda8 34.Bc6 Rc8 35.b3 Rac7 36.Rxa4 g6 37.Rb7 f5 38.Raa7 Rxb7 39.Rxb7+ Kf6 40.Rxh7 Kg5 41.exf5 gxf5 42.Rd7 Kf4 43.Rxd6 Rg8 44.Re6 e4 45.d6 Kf3 46.Rf6 Rg5 47.d7 Rg2+ 48.Kh1 Rd2 49.Rxf5+ Kg3 50.Rd5 Rh2+ 51.Kg1 Rg2+ 52.Kf1 Rf2+ 53.Ke1 e3 54.d8=Q\\n1.e4 c5 2.Nf3 d6 3.d4 cxd4 4.Nxd4 Nf6 5.Nc3 a6 6.f4 e6 7.Be2 Be7 8.Be3 Nc6 9.O-O Bd7 10.Bf3 O-O 11.Re1 Qc7 12.Bf2 b5 13.a3 Rac8 14.Rc1 Na5 15.e5 Ne8 16.exd6 Bxd6 17.Nde2 Nf6\\n1.g3 d5 2.Nf3 g6 3.d4 Bg7 4.c4 dxc4 5.Bg2 Nf6 6.Qa4+ c6 7.Qxc4 O-O 8.O-O Qb6 9.Nc3 Be6 10.Qa4 Na6 11.e4 Rad8 12.h3 Ne8 13.Bg5 f6 14.Be3 Qxb2 15.Rfc1 Qb4 16.Qxb4 Nxb4 17.Rab1 Nxa2 18.Nxa2 Bxa2 19.Rxb7 Nd6 20.Rxa7 Be6 21.Rxc6 Nc8 22.Rb7 Bd7 23.Rcc7 Ba4 24.Nd2 f5 25.e5 f4 26.gxf4 Bh6 27.Rb4 Bd7 28.d5 Bf5 29.Rbb7 Bd3 30.d6 e6 31.Rxh7\\n1.d4 d5 2.c4 c6 3.Nf3 Nf6 4.Nc3 e6 5.Bg5 Nbd7 6.e3 Qa5 7.Nd2 Bb4 8.Qc2 O-O 9.Be2 e5 10.O-O exd4 11.Nb3 Qc7 12.exd4 dxc4 13.Bxc4 Ng4 14.g3 h6 15.Bd2 Nb6 16.Be2 Qd8 17.Rad1 Nf6 18.Bc1 Nbd5 19.Bf3 Re8 20.a3 Bf8 21.Nc5 Nxc3 22.Qxc3 Qb6 23.Rfe1 Bg4 24.Bxg4 Nxg4 25.Nd7 Qc7 26.Nxf8 Rxe1+ 27.Rxe1 Rxf8 28.d5 Qd6 29.dxc6 bxc6 30.Bf4 Qd5 31.h3 Nf6 32.Bxh6 Rb8 33.Bc1 Rb3 34.Qe5 Qd3 35.Qe2 Qf5 36.Kg2 Qd5+ 37.Kh2 Rf3 38.Be3 Qf5 39.Kg2\\n1.d4 g6 2.Nf3 Bg7 3.g3 c5 4.c3 cxd4 5.cxd4 d5 6.Bg2 Nc6 7.Nc3 e6 8.O-O Nge7 9.b3 O-O 10.Ba3 Re8 11.Rc1 Qa5 12.Bb2 b5 13.Qd2 Ba6 14.Rfd1\\n1.e4 e6 2.d4 d5 3.Nd2 dxe4 4.Nxe4 Bd7 5.Nf3 Bc6 6.Bd3 Nd7 7.O-O Ngf6 8.Ned2 Be7 9.Re1 Bxf3 10.Qxf3 c6 11.b3 O-O 12.Bb2 Qa5 13.Rad1 Qh5 14.Qg3 Rac8 15.h3 Rfe8 16.Nf3 Bf8 17.c4 Qa5 18.Bb1 g6 19.Ng5 Nh5 20.Qg4 Ndf6 21.Qh4 h6 22.Ne4 Nxe4 23.Qxe4 Bg7 24.Qf3 Qc7 25.g3 Rcd8 26.Bc3 Rd7 27.d5 cxd5 28.Bxg7 Nxg7 29.cxd5 Rxd5 30.Qe3 Qa5 31.Qxh6 Red8 32.Qc1 Rxd1 33.Rxd1 Rxd1+ 34.Qxd1 Nf5 35.Bxf5 exf5 36.a4 b5 37.axb5 Qxb5 38.Qd8+ Kh7 39.Qh4+ Kg8 40.b4 Qd5 41.Qe7 Qd1+ 42.Kh2 Qd4 43.Kg2 Qd5+\\n1.d4 d5 2.c4 e6 3.Nc3 Nf6 4.cxd5 exd5 5.Bg5 Be7 6.e3 c6 7.Bd3 O-O 8.Qc2 Nbd7 9.Nge2 Re8 10.O-O Nf8 11.a3 Bg4 12.f3 Bh5 13.Nf4 Bg6 14.Nxg6 hxg6 15.Rae1 Ne6 16.Bh4 a6 17.b4 a5 18.Rb1 axb4 19.axb4 Ra3 20.Qb2 Qa8 21.Rfd1 Bf8 22.b5 g5 23.Bg3 c5 24.Be5 cxd4 25.exd4 Rc8 26.Ra1 Qa5 27.Ne2 Nd7 28.Bg3 Nb6 29.Be1 Qa4 30.Kh1 Nf4 31.Nxf4 gxf4 32.h3 Nc4 33.Bxc4 Rxc4 34.Rxa3 Qxd1 35.Ra1 Qxd4 36.Qxd4 Rxd4 37.Rb1\\n1.b3 e5 2.c4 g6 3.Bb2 Bg7 4.Nf3 Nc6 5.g3 Nge7 6.Bg2 O-O 7.Nc3 e4 8.Ng5 f5 9.h4 d5 10.cxd5 Nxd5 11.Qc2 Nf6 12.Nb5 a6 13.Qc4+ Kh8 14.Na3 Qe7 15.Nc2 Ne5 16.Bxe5 Qxe5 17.O-O b5 18.Qc6 Rb8 19.Ne3 Rb6 20.Qc2 f4 21.gxf4 Qxf4 22.Rac1 Qxh4 23.Qxc7 Rb7 24.Qg3 Qh5 25.Nxe4 Nxe4 26.Bxe4 Rbf7 27.Bf3 Rxf3 28.exf3 Be5 29.f4 Bxf4 30.Rxc8 Bxg3 31.Rxf8+ Kg7 32.fxg3 Qe2 33.R1f2 Qe1+ 34.Kg2 Qb1 35.Ng4 Qe4+ 36.Kh3 Qh1+ 37.Nh2 h5 38.R8f7+ Kh6 39.Rf1 Qd5 40.R1f2 a5 41.R7f3 a4 42.bxa4 bxa4 43.a3 Qd4 44.g4 Qd7 45.Kg3 hxg4 46.Nxg4+ Kg5 47.Nf6 Qd6+ 48.Kg2 Qc6 49.Kh2 Qd6+ 50.Kg1 Qd4 51.Rg3+ Kh6 52.Ng8+ Kh7 53.Ne7 g5 54.Rh3+\\n1.d4 d5 2.c4 c6 3.Nf3 e6 4.e3 Nf6 5.Nc3 Nbd7 6.Qc2 Bd6 7.Be2 O-O 8.O-O e5 9.b3 e4 10.Nd2 a6 11.f3 exf3 12.Bxf3 c5 13.Nxd5 cxd4 14.exd4 Nxd5 15.Bxd5 Bxh2+ 16.Kxh2 Qh4+ 17.Kg1 Qxd4+ 18.Rf2 Qxa1 19.Nf1 Kh8 20.Ba3 Qd4 21.Qe2 Rg8 22.Bxf7 Nf6 23.Bxg8 Bg4 24.Qe3 Qxe3 25.Nxe3 Rxg8 26.Bb2 Re8 27.Rxf6 gxf6 28.Nxg4 Re1+ 29.Kf2 Rd1 30.Ke2 Rg1 31.Bxf6+ Kg8 32.Ne3 Kf7 33.Bd4 h5 34.Kf2 Rc1 35.Ke2 Ke6 36.Kd2 Rh1 37.Ke2 h4 38.Kf3 h3 39.gxh3 Rxh3+ 40.Ke4 Rh2 41.a4 Rh4+ 42.Kd3 Kd7 43.b4 Rh2 44.c5 Ra2 45.Nd5 Kc6 46.Nc3 Rb2 47.b5+ axb5 48.axb5+ Rxb5 49.Nxb5 Kxb5 50.Kc3\\n1.c4 e5 2.Nc3 Nc6 3.g3 Nf6 4.Bg2 d6 5.e3 Be7 6.Nge2 Bg4 7.h3 Be6 8.Nd5 O-O 9.Nec3 a6 10.d3 Qd7 11.g4 h6 12.O-O Ne8 13.Bd2 f5 14.f3 Nf6 15.a3 Rf7 16.Qe2 Raf8 17.b4 Na7 18.gxf5 Bxf5 19.Nxe7+ Qxe7 20.f4 Qd7 21.fxe5 dxe5 22.Nd5 Bxh3 23.Nxf6+ Rxf6 24.Rxf6 Rxf6 25.Bxb7 Rg6+ 26.Kh2 c6 27.Qh5 Rg2+ 28.Kh1 Rxd2 29.Rg1 Qxb7 30.Qe8+ Kh7 31.Qg6+ Kg8\\n1.d4 Nf6 2.Bg5 e6 3.Nf3 d5 4.e3 g6 5.c4 Bg7 6.Nc3 O-O 7.Ne5 c5 8.Be2 Qa5 9.O-O cxd4 10.exd4 dxc4 11.Qd2 Nc6 12.Nxc4 Qb4 13.a3 Qe7 14.Bf3 Qd7 15.Rad1 Nd5 16.Bh6 Nce7 17.Bxg7 Kxg7 18.Ne5 Qe8 19.Rfe1 b5 20.Ng4 Qd8 21.Qh6+ Kg8 22.Nf6+ Nxf6 23.Bxa8 Nf5 24.Qd2 a5 25.Bf3 Qb6 26.Qg5 Kg7 27.Ne4 Nxe4 28.Bxe4 h6 29.Qf4 Ne7 30.b4 axb4 31.axb4 Bb7 32.Qe5+ Kh7 33.Qc5 Qxc5 34.dxc5 Bxe4 35.Rxe4 Nd5 36.Ra1 Rc8 37.Ra7 Kg8 38.g3 Rc6 39.f4 Kg7 40.Kf2 Kf6 41.Kf3 g5 42.Rd4 gxf4 43.gxf4 Kg6 44.Ra5 Kf5 45.Rxb5 f6 46.Rxd5+ exd5 47.Rb6\\n1.Nf3 c5 2.c4 f5 3.Nc3 Nf6 4.d4 cxd4 5.Nxd4 d6 6.Bg5 e5 7.Bxf6 gxf6 8.Nc2 Be6 9.e4 f4 10.Be2 Be7 11.g3 fxg3 12.hxg3 Nc6 13.Bh5+ Kf8 14.Qd2 Rg8 15.Nd5 Rg7 16.O-O-O Qa5 17.Qxa5 Nxa5 18.Nc7 Bxc4 19.Nxa8 Bxa2 20.b4\\n1.d4 d5 2.c4 c6 3.Nc3 Nf6 4.Nf3 e6 5.e3 Nbd7 6.Bd2 Be7 7.c5 Qc7 8.Be2 e5 9.O-O O-O 10.b4 Ne4 11.Qc2 f5 12.Nxe4 fxe4 13.Nxe5 Nxe5 14.dxe5 Qxe5 15.f4 exf3 16.Bxf3 Bf5 17.Qc3 Qe6 18.Rae1 Bf6 19.Qb3 Rae8 20.Bc1 Be4 21.Bd2 Bh4 22.Re2 Qg6 23.Bxe4 Qxe4 24.Rxf8+ Rxf8 25.g3 Qf3 26.Qd1 Bg5 27.Qe1 Re8 28.Qf2 Qe4 29.Re1 Rf8 30.Qg2 Rf3 31.Qe2 h6 32.a3 h5\\n1.d4 d5 2.Nf3 Nf6 3.c4 c6 4.cxd5 cxd5 5.Nc3 Nc6 6.Bf4 Bf5 7.e3 e6 8.Bb5 Nd7 9.Qa4 Rc8 10.O-O a6 11.Bxc6 Rxc6 12.Rfc1 b5 13.Qd1 Be7 14.h3 O-O 15.Nxd5 Rxc1 16.Nxe7+ Qxe7 17.Rxc1 Nf6 18.Rc6 Qb4 19.Bd6\\n1.c4 f5 2.g3 Nf6 3.Bg2 g6 4.Nc3 Bg7 5.Nf3 O-O 6.O-O d6 7.d3 e5 8.Rb1 h6 9.b4 Nc6 10.b5 Ne7\\n1.e4 c5 2.Nf3 d6 3.d4 cxd4 4.Nxd4 Nf6 5.Nc3 a6 6.Be3 Nc6 7.Qd2 e6 8.f3 Be7 9.g4 O-O 10.O-O-O Nxd4 11.Bxd4 Nd7 12.h4 b5 13.g5 Bb7 14.Bh3 Rc8 15.Kb1 b4 16.Ne2 a5 17.g6 hxg6 18.h5 Bg5 19.f4 Bxe4 20.fxg5 Rxc2 21.Qxc2 Bxc2+ 22.Kxc2 Qxg5 23.Kb1 Qxh5 24.Nf4 Qf3 25.Nxe6 Rb8 26.Ng5 Qc6 27.Rhf1 f5 28.Rf2 Re8 29.Rc2 Qb5 30.Bf1 Qb7 31.Bg2 d5 32.Bf3 a4 33.Rh2 Qb5 34.Rh7 Ne5 35.Rdh1\\n1.d4 c6 2.c4 d5 3.Nc3 Nf6 4.Nf3 g6 5.e3 Bg7 6.Be2 O-O 7.O-O dxc4 8.Bxc4 b5 9.Be2 a5 10.Ne5 Nfd7 11.f4 Nxe5 12.fxe5 b4 13.Ne4 Ba6 14.b3 Bxe2 15.Qxe2 Qd5 16.Qc2 Na6 17.Bb2 Rac8 18.Ng5 Nc7 19.e4 Qd7 20.Qc5 Nb5 21.Qc4 e6 22.Rf3 h6 23.Nh3 Rcd8 24.Nf2 c5 25.dxc5 Qc6 26.Ng4 Rd2 27.Bc1 Rd4 28.Qf1 Nc3 29.Bxh6 Nxe4 30.Bxg7 Kxg7 31.Rf4 Qxc5 32.Kh1 Qd5 33.Rxe4 Rxe4 34.Qf6+ Kg8 35.Nh6+ Kh7 36.Nxf7 Rxf7 37.Qxf7+ Kh6 38.Qf8+ Kh5 39.Qh8+ Kg5 40.Qf6+ Kh6 41.Qf8+ Kh5 42.Rc1 Qxe5 43.g4+ Kg5 44.Rc5 Re1+ 45.Kg2 Re2+\\n'"
      ]
     },
     "execution_count": 115,
     "metadata": {},
     "output_type": "execute_result"
    }
   ],
   "source": [
    "vocab = {idx: bytes([idx]) for idx in range(256)}\n",
    "\n",
    "for (p0, p1), idx in merges.items():\n",
    "    vocab[idx] = vocab[p0] + vocab[p1]\n",
    "\n",
    "\n",
    "def decode(ids: list[int]) -> str:\n",
    "    tokens = b\"\".join(vocab[idx] for idx in ids)\n",
    "\n",
    "    text = tokens.decode(\"utf-8\", errors=\"replace\")\n",
    "\n",
    "    return text\n",
    "\n",
    "\n",
    "decode(ids)"
   ]
  },
  {
   "cell_type": "code",
   "execution_count": 116,
   "metadata": {},
   "outputs": [
    {
     "name": "stdout",
     "output_type": "stream",
     "text": [
      "[282, 291, 100, 273, 303, 66, 102, 53]\n"
     ]
    }
   ],
   "source": [
    "def encode(text: str) -> list[int]:\n",
    "    tokens = list(text.encode(\"utf-8\"))\n",
    "\n",
    "    while len(tokens) >= 2:\n",
    "        stats = get_stats(tokens)\n",
    "\n",
    "        pair = min(stats, key=lambda p: merges.get(p, float(\"inf\")))\n",
    "\n",
    "        if pair not in merges:\n",
    "            break\n",
    "\n",
    "        idx = merges[pair]\n",
    "\n",
    "        tokens = merge_pairs(tokens, pair, idx)\n",
    "\n",
    "    return tokens\n",
    "\n",
    "\n",
    "print(encode(\"1.d4 d5 2.Nf3 Bf5\"))"
   ]
  },
  {
   "cell_type": "code",
   "execution_count": 117,
   "metadata": {},
   "outputs": [
    {
     "name": "stdout",
     "output_type": "stream",
     "text": [
      "1.d4 d5 2.Nf3 Bf5\n"
     ]
    }
   ],
   "source": [
    "print(decode(encode(\"1.d4 d5 2.Nf3 Bf5\")))"
   ]
  },
  {
   "cell_type": "code",
   "execution_count": 143,
   "metadata": {},
   "outputs": [
    {
     "name": "stdout",
     "output_type": "stream",
     "text": [
      "True\n"
     ]
    }
   ],
   "source": [
    "new_sample = df.select(\"PGN\").sample(n=1)[0].item().strip()\n",
    "\n",
    "print(new_sample == decode(encode(new_sample)))"
   ]
  },
  {
   "cell_type": "code",
   "execution_count": 145,
   "metadata": {},
   "outputs": [
    {
     "name": "stdout",
     "output_type": "stream",
     "text": [
      "['1.', 'd4', ' d6', ' 2.', 'c4', ' g6', ' 3.', 'Nc3', ' Bg7', ' 4.', 'Nf3', ' Nf6', ' 5.', 'e3', ' O-O', ' 6.', 'Be2', ' Nbd7', ' 7.', 'O-O', ' c6', ' 8.', 'b4', ' e5', ' 9.', 'a4', ' Qe7', ' 10.', 'b5', ' Re8', ' 11.', 'a5', ' c5', ' 12.', 'dxe5', ' dxe5', ' 13.', 'e4', ' h6', ' 14.', 'Nd2', ' Nf8', ' 15.', 'Nd5', ' Qd6', ' 16.', 'Ba3', ' Ne6', ' 17.', 'Nb3', ' Qf8', ' 18.', 'f4', ' exf4', ' 19.', 'e5', ' Nd7', ' 20.', 'Bg4', ' Bxe5', ' 21.', 'Ra2', ' f5', ' 22.', 'Bf3', ' Qg7', ' 23.', 'Re1', ' g5', ' 24.', 'Bh5', ' Rf8', ' 25.', 'Rae2', ' Nd4', ' 26.', 'Rxe5', ' Nxe5', ' 27.', 'Nxd4', ' cxd4', ' 28.', 'Bxf8', ' Kxf8', ' 29.', 'Qe2', ' Bd7', ' 30.', 'Qxe5', ' Qxe5', ' 31.', 'Rxe5', ' Rc8', ' 32.', 'Be2', ' Be8', ' 33.', 'Bd3', ' Kg7', ' 34.', 'Re7+', ' Kf8', ' 35.', 'Rxb7', ' Bf7', ' 36.', 'a6', ' Re8', ' 37.', 'b6', ' axb6', ' 38.', 'a7', ' Bxd5', ' 39.', 'cxd5', ' Re1+', ' 40.', 'Kf2']\n"
     ]
    }
   ],
   "source": [
    "import re\n",
    "\n",
    "# ignore `1.`, ` 2.`, ` `, etc. and get the actual moves as separate entries\n",
    "tokenizer_pattern = re.compile(r\"\"\" ?\\d+\\.|\\. ?| ?[-\\w#+]+|\\s+\"\"\", flags=re.IGNORECASE)\n",
    "\n",
    "print(re.findall(tokenizer_pattern, new_sample))"
   ]
  }
 ],
 "metadata": {
  "kernelspec": {
   "display_name": ".venv",
   "language": "python",
   "name": "python3"
  },
  "language_info": {
   "codemirror_mode": {
    "name": "ipython",
    "version": 3
   },
   "file_extension": ".py",
   "mimetype": "text/x-python",
   "name": "python",
   "nbconvert_exporter": "python",
   "pygments_lexer": "ipython3",
   "version": "3.13.1"
  }
 },
 "nbformat": 4,
 "nbformat_minor": 2
}
