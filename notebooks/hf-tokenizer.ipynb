{
 "cells": [
  {
   "cell_type": "code",
   "execution_count": 1,
   "metadata": {},
   "outputs": [],
   "source": [
    "%%capture\n",
    "\n",
    "!uv pip install tokenizers polars tiktoken"
   ]
  },
  {
   "cell_type": "code",
   "execution_count": 2,
   "metadata": {},
   "outputs": [],
   "source": [
    "import polars as pl"
   ]
  },
  {
   "cell_type": "code",
   "execution_count": 3,
   "metadata": {},
   "outputs": [],
   "source": [
    "START_GAME = \"<|g_start|>\"\n",
    "END_GAME = \"<|g_end|>\""
   ]
  },
  {
   "cell_type": "code",
   "execution_count": 4,
   "metadata": {},
   "outputs": [],
   "source": [
    "SPECIAL_TOKENS = [START_GAME, END_GAME]"
   ]
  },
  {
   "cell_type": "code",
   "execution_count": 5,
   "metadata": {},
   "outputs": [],
   "source": [
    "df = pl.read_csv(\"../.data/chess_games_2025-01-15.csv\", null_values=[\"None\"])"
   ]
  },
  {
   "cell_type": "code",
   "execution_count": 6,
   "metadata": {},
   "outputs": [],
   "source": [
    "sample = df.select(\"PGN\").sample(n=500)"
   ]
  },
  {
   "cell_type": "code",
   "execution_count": 7,
   "metadata": {},
   "outputs": [],
   "source": [
    "training_text = []\n",
    "\n",
    "for game in sample.iter_rows():\n",
    "    if game[0]:\n",
    "        training_text.append(START_GAME + game[0].strip() + END_GAME)"
   ]
  },
  {
   "cell_type": "code",
   "execution_count": 8,
   "metadata": {},
   "outputs": [],
   "source": [
    "import re\n",
    "\n",
    "# ignore `1.`, ` 2.`, ` `, etc. and get the actual moves as separate entries\n",
    "chunk_pattern = re.compile(r\"\"\" ?\\d+\\.|\\. ?| ?[-\\w]+|[#+]|\\s+\"\"\")"
   ]
  },
  {
   "cell_type": "code",
   "execution_count": 9,
   "metadata": {},
   "outputs": [],
   "source": [
    "from tokenizers import Tokenizer, Regex\n",
    "from tokenizers.models import BPE\n",
    "from tokenizers.normalizers import NFD\n",
    "from tokenizers.pre_tokenizers import Split\n",
    "from tokenizers.decoders import ByteLevel as ByteLevelDecoder\n",
    "from tokenizers.processors import ByteLevel as ByteLevelProcessor\n",
    "from tokenizers.trainers import BpeTrainer"
   ]
  },
  {
   "cell_type": "code",
   "execution_count": 10,
   "metadata": {},
   "outputs": [],
   "source": [
    "tokenizer = Tokenizer(\n",
    "    BPE(unk_token=\"[UNK]\", fuse_unk=True, continuing_subword_prefix=\"\")\n",
    ")\n",
    "\n",
    "tokenizer.normalizer = NFD()\n",
    "\n",
    "tokenizer.pre_tokenizer = Split(\n",
    "    pattern=Regex(r\"\"\" ?\\d+\\.|\\. ?| ?[-\\w]+|[#+]\"\"\"), behavior=\"isolated\"\n",
    ")\n",
    "\n",
    "tokenizer.post_processor = ByteLevelProcessor(trim_offsets=True)\n",
    "tokenizer.decoder = ByteLevelDecoder()\n",
    "\n",
    "trainer = BpeTrainer(vocab_size=3072, show_progress=True)"
   ]
  },
  {
   "cell_type": "code",
   "execution_count": 11,
   "metadata": {},
   "outputs": [
    {
     "name": "stdout",
     "output_type": "stream",
     "text": [
      "\n",
      "\n",
      "\n"
     ]
    }
   ],
   "source": [
    "tokenizer.train_from_iterator([training_text], trainer=trainer)"
   ]
  },
  {
   "cell_type": "code",
   "execution_count": 12,
   "metadata": {},
   "outputs": [
    {
     "name": "stdout",
     "output_type": "stream",
     "text": [
      "1.d4 d5 2.Nf3 Bf5 3.Bf4 Nc6 4.h3 e6 5.c3 Bd6 6.e3 Bxf4 7.exf4 Qd6 8.Qd2 Nf6 9.Bb5 a6 10.Bxc6+ bxc6 11.O-O Ne4 12.Qe3 Rb8 13.Nbd2 Rxb2 14.Rfd1 O-O 15.c4 Nxd2 16.Nxd2 Qb4 17.a3 Qb7 18.Qc3 dxc4 19.Qxc4 Qb5 20.Qc3 Rc2 21.Qe3 Rd8 22.Rdb1 Qd3 23.Qxd3 Bxd3 24.Nf3 f6 25.Rd1 Be2 26.Re1 Bxf3 27.gxf3 Kf7 28.Red1 Rc4 29.Rac1 Rxc1 30.Rxc1 Rd6 31.Rc4 h6 32.h4 Kg6 33.Kg2 h5 34.Kg3 f5 35.Ra4 a5 36.Rc4 Kf7 37.Kg2 Ke7 38.Kf1 Kd7 39.Ke2 Rd5 40.a4 c5 41.Kd3 cxd4 42.Rxd4 c5 43.Rxd5+ exd5 44.Kd2 c4 45.Kc3 Ke6 46.Kd4 Kd6 47.Ke3 Kc5 48.Kd2 d4 49.Kc2 Kb4 50.Kb2 Kxa4 51.Ka2 c3 52.Ka1 Kb3 53.Kb1 a4 54.Ka1 d3 55.Kb1 d2 56.Ka1 d1=Q# \n"
     ]
    }
   ],
   "source": [
    "sample = df.sample(1).select(\"PGN\").item()\n",
    "\n",
    "output = tokenizer.encode(sample)\n",
    "\n",
    "print(sample)"
   ]
  },
  {
   "cell_type": "code",
   "execution_count": 13,
   "metadata": {},
   "outputs": [],
   "source": [
    "# adapted from: https://github.com/openai/tiktoken/blob/main/tiktoken/_educational.py#L186\n",
    "def visualise_kn1ght_tokens(token_values: list[str | bytes]) -> None:\n",
    "    background = [f\"\\u001b[48;5;{i}m\" for i in [167, 179, 185, 77, 80, 68, 134]]\n",
    "    # If token boundaries do not occur at unicode character boundaries, it's unclear how best to\n",
    "    # visualise the token. Here, we'll just use the unicode replacement character to represent some\n",
    "    # fraction of a character.\n",
    "    if not all(isinstance(x, str) for x in token_values):\n",
    "        unicode_token_values = [x.decode(\"utf-8\") for x in token_values]\n",
    "    else:\n",
    "        unicode_token_values = token_values\n",
    "\n",
    "    running_length = 0\n",
    "    last_color = None\n",
    "    for token in unicode_token_values:\n",
    "        color = background[running_length % len(background)]\n",
    "        if color == last_color:\n",
    "            color = background[(running_length + 1) % len(background)]\n",
    "            assert color != last_color\n",
    "        last_color = color\n",
    "        running_length += len(token)\n",
    "        print(color + token, end=\"\")\n",
    "    print(\"\\u001b[0m\")"
   ]
  },
  {
   "cell_type": "code",
   "execution_count": 14,
   "metadata": {},
   "outputs": [],
   "source": [
    "import tiktoken\n",
    "\n",
    "tiktoken_gpt4_encoding = tiktoken.get_encoding(\"cl100k_base\")\n",
    "tiktoken_gpt4_tokens = tiktoken_gpt4_encoding.encode(sample)\n",
    "\n",
    "tiktoken_gpt4o_encoding = tiktoken.get_encoding(\"o200k_base\")\n",
    "tiktoken_gpt4o_tokens = tiktoken_gpt4o_encoding.encode(sample)"
   ]
  },
  {
   "cell_type": "code",
   "execution_count": 15,
   "metadata": {},
   "outputs": [
    {
     "name": "stdout",
     "output_type": "stream",
     "text": [
      "tiktoken gpt-4o Tokenizer:\n",
      "\u001b[48;5;167m1\u001b[48;5;179m.d\u001b[48;5;77m4\u001b[48;5;80m d\u001b[48;5;134m5\u001b[48;5;167m \u001b[48;5;179m2\u001b[48;5;185m.N\u001b[48;5;80mf\u001b[48;5;68m3\u001b[48;5;134m B\u001b[48;5;179mf\u001b[48;5;185m5\u001b[48;5;77m \u001b[48;5;80m3\u001b[48;5;68m.B\u001b[48;5;167mf\u001b[48;5;179m4\u001b[48;5;185m Nc\u001b[48;5;68m6\u001b[48;5;134m \u001b[48;5;167m4\u001b[48;5;179m.h\u001b[48;5;77m3\u001b[48;5;80m e\u001b[48;5;134m6\u001b[48;5;167m \u001b[48;5;179m5\u001b[48;5;185m.c\u001b[48;5;80m3\u001b[48;5;68m Bd\u001b[48;5;179m6\u001b[48;5;185m \u001b[48;5;77m6\u001b[48;5;80m.e\u001b[48;5;134m3\u001b[48;5;167m B\u001b[48;5;185mxf\u001b[48;5;80m4\u001b[48;5;68m \u001b[48;5;134m7\u001b[48;5;167m.ex\u001b[48;5;77mf\u001b[48;5;80m4\u001b[48;5;68m Q\u001b[48;5;167md\u001b[48;5;179m6\u001b[48;5;185m \u001b[48;5;77m8\u001b[48;5;80m.Q\u001b[48;5;134md\u001b[48;5;167m2\u001b[48;5;179m N\u001b[48;5;77mf\u001b[48;5;80m6\u001b[48;5;68m \u001b[48;5;134m9\u001b[48;5;167m.B\u001b[48;5;185mb\u001b[48;5;77m5\u001b[48;5;80m a\u001b[48;5;134m6\u001b[48;5;167m \u001b[48;5;179m10\u001b[48;5;77m.B\u001b[48;5;68mxc\u001b[48;5;167m6\u001b[48;5;179m+\u001b[48;5;185m b\u001b[48;5;80mxc\u001b[48;5;134m6\u001b[48;5;167m \u001b[48;5;179m11\u001b[48;5;77m.O\u001b[48;5;68m-O\u001b[48;5;167m Ne\u001b[48;5;77m4\u001b[48;5;80m \u001b[48;5;68m12\u001b[48;5;167m.Q\u001b[48;5;185me\u001b[48;5;77m3\u001b[48;5;80m R\u001b[48;5;134mb\u001b[48;5;167m8\u001b[48;5;179m \u001b[48;5;185m13\u001b[48;5;80m.N\u001b[48;5;134mbd\u001b[48;5;179m2\u001b[48;5;185m R\u001b[48;5;80mxb\u001b[48;5;134m2\u001b[48;5;167m \u001b[48;5;179m14\u001b[48;5;77m.R\u001b[48;5;68mfd\u001b[48;5;167m1\u001b[48;5;179m O\u001b[48;5;77m-O\u001b[48;5;68m \u001b[48;5;134m15\u001b[48;5;179m.c\u001b[48;5;77m4\u001b[48;5;80m N\u001b[48;5;134mxd\u001b[48;5;179m2\u001b[48;5;185m \u001b[48;5;77m16\u001b[48;5;68m.N\u001b[48;5;167mxd\u001b[48;5;185m2\u001b[48;5;77m Q\u001b[48;5;68mb\u001b[48;5;134m4\u001b[48;5;167m \u001b[48;5;179m17\u001b[48;5;77m.a\u001b[48;5;68m3\u001b[48;5;134m Q\u001b[48;5;179mb\u001b[48;5;185m7\u001b[48;5;77m \u001b[48;5;80m18\u001b[48;5;134m.Q\u001b[48;5;179mc\u001b[48;5;185m3\u001b[48;5;77m d\u001b[48;5;68mxc\u001b[48;5;167m4\u001b[48;5;179m \u001b[48;5;185m19\u001b[48;5;80m.Q\u001b[48;5;134mxc\u001b[48;5;179m4\u001b[48;5;185m Q\u001b[48;5;80mb\u001b[48;5;68m5\u001b[48;5;134m \u001b[48;5;167m20\u001b[48;5;185m.Q\u001b[48;5;80mc\u001b[48;5;68m3\u001b[48;5;134m Rc\u001b[48;5;185m2\u001b[48;5;77m \u001b[48;5;80m21\u001b[48;5;134m.Q\u001b[48;5;179me\u001b[48;5;185m3\u001b[48;5;77m Rd\u001b[48;5;134m8\u001b[48;5;167m \u001b[48;5;179m22\u001b[48;5;77m.R\u001b[48;5;68mdb\u001b[48;5;167m1\u001b[48;5;179m Q\u001b[48;5;77md\u001b[48;5;80m3\u001b[48;5;68m \u001b[48;5;134m23\u001b[48;5;179m.Q\u001b[48;5;77mxd\u001b[48;5;68m3\u001b[48;5;134m B\u001b[48;5;179mxd\u001b[48;5;77m3\u001b[48;5;80m \u001b[48;5;68m24\u001b[48;5;167m.N\u001b[48;5;185mf\u001b[48;5;77m3\u001b[48;5;80m f\u001b[48;5;134m6\u001b[48;5;167m \u001b[48;5;179m25\u001b[48;5;77m.R\u001b[48;5;68md\u001b[48;5;134m1\u001b[48;5;167m Be\u001b[48;5;77m2\u001b[48;5;80m \u001b[48;5;68m26\u001b[48;5;167m.Re\u001b[48;5;77m1\u001b[48;5;80m B\u001b[48;5;134mxf\u001b[48;5;179m3\u001b[48;5;185m \u001b[48;5;77m27\u001b[48;5;68m.g\u001b[48;5;167mxf\u001b[48;5;185m3\u001b[48;5;77m K\u001b[48;5;68mf\u001b[48;5;134m7\u001b[48;5;167m \u001b[48;5;179m28\u001b[48;5;77m.Red\u001b[48;5;167m1\u001b[48;5;179m Rc\u001b[48;5;80m4\u001b[48;5;68m \u001b[48;5;134m29\u001b[48;5;179m.R\u001b[48;5;77mac\u001b[48;5;68m1\u001b[48;5;134m R\u001b[48;5;179mxc\u001b[48;5;77m1\u001b[48;5;80m \u001b[48;5;68m30\u001b[48;5;167m.R\u001b[48;5;185mxc\u001b[48;5;80m1\u001b[48;5;68m Rd\u001b[48;5;179m6\u001b[48;5;185m \u001b[48;5;77m31\u001b[48;5;68m.R\u001b[48;5;167mc\u001b[48;5;179m4\u001b[48;5;185m h\u001b[48;5;80m6\u001b[48;5;68m \u001b[48;5;134m32\u001b[48;5;179m.h\u001b[48;5;77m4\u001b[48;5;80m Kg\u001b[48;5;167m6\u001b[48;5;179m \u001b[48;5;185m33\u001b[48;5;80m.K\u001b[48;5;134mg\u001b[48;5;167m2\u001b[48;5;179m h\u001b[48;5;77m5\u001b[48;5;80m \u001b[48;5;68m34\u001b[48;5;167m.K\u001b[48;5;185mg\u001b[48;5;77m3\u001b[48;5;80m f\u001b[48;5;134m5\u001b[48;5;167m \u001b[48;5;179m35\u001b[48;5;77m.R\u001b[48;5;68ma\u001b[48;5;134m4\u001b[48;5;167m a\u001b[48;5;185m5\u001b[48;5;77m \u001b[48;5;80m36\u001b[48;5;134m.R\u001b[48;5;179mc\u001b[48;5;185m4\u001b[48;5;77m K\u001b[48;5;68mf\u001b[48;5;134m7\u001b[48;5;167m \u001b[48;5;179m37\u001b[48;5;77m.K\u001b[48;5;68mg\u001b[48;5;134m2\u001b[48;5;167m Ke\u001b[48;5;77m7\u001b[48;5;80m \u001b[48;5;68m38\u001b[48;5;167m.K\u001b[48;5;185mf\u001b[48;5;77m1\u001b[48;5;80m K\u001b[48;5;134md\u001b[48;5;167m7\u001b[48;5;179m \u001b[48;5;185m39\u001b[48;5;80m.K\u001b[48;5;134me\u001b[48;5;167m2\u001b[48;5;179m Rd\u001b[48;5;80m5\u001b[48;5;68m \u001b[48;5;134m40\u001b[48;5;179m.a\u001b[48;5;77m4\u001b[48;5;80m c\u001b[48;5;134m5\u001b[48;5;167m \u001b[48;5;179m41\u001b[48;5;77m.K\u001b[48;5;68md\u001b[48;5;134m3\u001b[48;5;167m c\u001b[48;5;185mxd\u001b[48;5;80m4\u001b[48;5;68m \u001b[48;5;134m42\u001b[48;5;179m.R\u001b[48;5;77mxd\u001b[48;5;68m4\u001b[48;5;134m c\u001b[48;5;179m5\u001b[48;5;185m \u001b[48;5;77m43\u001b[48;5;68m.R\u001b[48;5;167mxd\u001b[48;5;185m5\u001b[48;5;77m+\u001b[48;5;80m ex\u001b[48;5;167md\u001b[48;5;179m5\u001b[48;5;185m \u001b[48;5;77m44\u001b[48;5;68m.K\u001b[48;5;167md\u001b[48;5;179m2\u001b[48;5;185m c\u001b[48;5;80m4\u001b[48;5;68m \u001b[48;5;134m45\u001b[48;5;179m.K\u001b[48;5;77mc\u001b[48;5;80m3\u001b[48;5;68m Ke\u001b[48;5;179m6\u001b[48;5;185m \u001b[48;5;77m46\u001b[48;5;68m.K\u001b[48;5;167md\u001b[48;5;179m4\u001b[48;5;185m K\u001b[48;5;80md\u001b[48;5;68m6\u001b[48;5;134m \u001b[48;5;167m47\u001b[48;5;185m.K\u001b[48;5;80me\u001b[48;5;68m3\u001b[48;5;134m K\u001b[48;5;179mc\u001b[48;5;185m5\u001b[48;5;77m \u001b[48;5;80m48\u001b[48;5;134m.K\u001b[48;5;179md\u001b[48;5;185m2\u001b[48;5;77m d\u001b[48;5;68m4\u001b[48;5;134m \u001b[48;5;167m49\u001b[48;5;185m.K\u001b[48;5;80mc\u001b[48;5;68m2\u001b[48;5;134m K\u001b[48;5;179mb\u001b[48;5;185m4\u001b[48;5;77m \u001b[48;5;80m50\u001b[48;5;134m.K\u001b[48;5;179mb\u001b[48;5;185m2\u001b[48;5;77m K\u001b[48;5;68mxa\u001b[48;5;167m4\u001b[48;5;179m \u001b[48;5;185m51\u001b[48;5;80m.K\u001b[48;5;134ma\u001b[48;5;167m2\u001b[48;5;179m c\u001b[48;5;77m3\u001b[48;5;80m \u001b[48;5;68m52\u001b[48;5;167m.K\u001b[48;5;185ma\u001b[48;5;77m1\u001b[48;5;80m K\u001b[48;5;134mb\u001b[48;5;167m3\u001b[48;5;179m \u001b[48;5;185m53\u001b[48;5;80m.K\u001b[48;5;134mb\u001b[48;5;167m1\u001b[48;5;179m a\u001b[48;5;77m4\u001b[48;5;80m \u001b[48;5;68m54\u001b[48;5;167m.K\u001b[48;5;185ma\u001b[48;5;77m1\u001b[48;5;80m d\u001b[48;5;134m3\u001b[48;5;167m \u001b[48;5;179m55\u001b[48;5;77m.K\u001b[48;5;68mb\u001b[48;5;134m1\u001b[48;5;167m d\u001b[48;5;185m2\u001b[48;5;77m \u001b[48;5;80m56\u001b[48;5;134m.K\u001b[48;5;179ma\u001b[48;5;185m1\u001b[48;5;77m d\u001b[48;5;68m1\u001b[48;5;134m=\u001b[48;5;167mQ\u001b[48;5;179m#\u001b[48;5;185m \u001b[0m\n",
      "---\n",
      "tiktoken gpt-4 Tokenizer:\n",
      "\u001b[48;5;167m1\u001b[48;5;179m.d\u001b[48;5;77m4\u001b[48;5;80m d\u001b[48;5;134m5\u001b[48;5;167m \u001b[48;5;179m2\u001b[48;5;185m.N\u001b[48;5;80mf\u001b[48;5;68m3\u001b[48;5;134m B\u001b[48;5;179mf\u001b[48;5;185m5\u001b[48;5;77m \u001b[48;5;80m3\u001b[48;5;68m.B\u001b[48;5;167mf\u001b[48;5;179m4\u001b[48;5;185m N\u001b[48;5;80mc\u001b[48;5;68m6\u001b[48;5;134m \u001b[48;5;167m4\u001b[48;5;179m.h\u001b[48;5;77m3\u001b[48;5;80m e\u001b[48;5;134m6\u001b[48;5;167m \u001b[48;5;179m5\u001b[48;5;185m.c\u001b[48;5;80m3\u001b[48;5;68m Bd\u001b[48;5;179m6\u001b[48;5;185m \u001b[48;5;77m6\u001b[48;5;80m.e\u001b[48;5;134m3\u001b[48;5;167m B\u001b[48;5;185mxf\u001b[48;5;80m4\u001b[48;5;68m \u001b[48;5;134m7\u001b[48;5;167m.ex\u001b[48;5;77mf\u001b[48;5;80m4\u001b[48;5;68m Q\u001b[48;5;167md\u001b[48;5;179m6\u001b[48;5;185m \u001b[48;5;77m8\u001b[48;5;80m.Q\u001b[48;5;134md\u001b[48;5;167m2\u001b[48;5;179m N\u001b[48;5;77mf\u001b[48;5;80m6\u001b[48;5;68m \u001b[48;5;134m9\u001b[48;5;167m.B\u001b[48;5;185mb\u001b[48;5;77m5\u001b[48;5;80m a\u001b[48;5;134m6\u001b[48;5;167m \u001b[48;5;179m10\u001b[48;5;77m.B\u001b[48;5;68mxc\u001b[48;5;167m6\u001b[48;5;179m+\u001b[48;5;185m b\u001b[48;5;80mxc\u001b[48;5;134m6\u001b[48;5;167m \u001b[48;5;179m11\u001b[48;5;77m.O\u001b[48;5;68m-O\u001b[48;5;167m Ne\u001b[48;5;77m4\u001b[48;5;80m \u001b[48;5;68m12\u001b[48;5;167m.Q\u001b[48;5;185me\u001b[48;5;77m3\u001b[48;5;80m R\u001b[48;5;134mb\u001b[48;5;167m8\u001b[48;5;179m \u001b[48;5;185m13\u001b[48;5;80m.N\u001b[48;5;134mbd\u001b[48;5;179m2\u001b[48;5;185m R\u001b[48;5;80mxb\u001b[48;5;134m2\u001b[48;5;167m \u001b[48;5;179m14\u001b[48;5;77m.R\u001b[48;5;68mfd\u001b[48;5;167m1\u001b[48;5;179m O\u001b[48;5;77m-O\u001b[48;5;68m \u001b[48;5;134m15\u001b[48;5;179m.c\u001b[48;5;77m4\u001b[48;5;80m N\u001b[48;5;134mxd\u001b[48;5;179m2\u001b[48;5;185m \u001b[48;5;77m16\u001b[48;5;68m.N\u001b[48;5;167mxd\u001b[48;5;185m2\u001b[48;5;77m Q\u001b[48;5;68mb\u001b[48;5;134m4\u001b[48;5;167m \u001b[48;5;179m17\u001b[48;5;77m.a\u001b[48;5;68m3\u001b[48;5;134m Q\u001b[48;5;179mb\u001b[48;5;185m7\u001b[48;5;77m \u001b[48;5;80m18\u001b[48;5;134m.Q\u001b[48;5;179mc\u001b[48;5;185m3\u001b[48;5;77m d\u001b[48;5;68mxc\u001b[48;5;167m4\u001b[48;5;179m \u001b[48;5;185m19\u001b[48;5;80m.Q\u001b[48;5;134mxc\u001b[48;5;179m4\u001b[48;5;185m Q\u001b[48;5;80mb\u001b[48;5;68m5\u001b[48;5;134m \u001b[48;5;167m20\u001b[48;5;185m.Q\u001b[48;5;80mc\u001b[48;5;68m3\u001b[48;5;134m Rc\u001b[48;5;185m2\u001b[48;5;77m \u001b[48;5;80m21\u001b[48;5;134m.Q\u001b[48;5;179me\u001b[48;5;185m3\u001b[48;5;77m Rd\u001b[48;5;134m8\u001b[48;5;167m \u001b[48;5;179m22\u001b[48;5;77m.R\u001b[48;5;68mdb\u001b[48;5;167m1\u001b[48;5;179m Q\u001b[48;5;77md\u001b[48;5;80m3\u001b[48;5;68m \u001b[48;5;134m23\u001b[48;5;179m.Q\u001b[48;5;77mxd\u001b[48;5;68m3\u001b[48;5;134m B\u001b[48;5;179mxd\u001b[48;5;77m3\u001b[48;5;80m \u001b[48;5;68m24\u001b[48;5;167m.N\u001b[48;5;185mf\u001b[48;5;77m3\u001b[48;5;80m f\u001b[48;5;134m6\u001b[48;5;167m \u001b[48;5;179m25\u001b[48;5;77m.R\u001b[48;5;68md\u001b[48;5;134m1\u001b[48;5;167m Be\u001b[48;5;77m2\u001b[48;5;80m \u001b[48;5;68m26\u001b[48;5;167m.Re\u001b[48;5;77m1\u001b[48;5;80m B\u001b[48;5;134mxf\u001b[48;5;179m3\u001b[48;5;185m \u001b[48;5;77m27\u001b[48;5;68m.g\u001b[48;5;167mxf\u001b[48;5;185m3\u001b[48;5;77m K\u001b[48;5;68mf\u001b[48;5;134m7\u001b[48;5;167m \u001b[48;5;179m28\u001b[48;5;77m.Red\u001b[48;5;167m1\u001b[48;5;179m Rc\u001b[48;5;80m4\u001b[48;5;68m \u001b[48;5;134m29\u001b[48;5;179m.R\u001b[48;5;77mac\u001b[48;5;68m1\u001b[48;5;134m R\u001b[48;5;179mxc\u001b[48;5;77m1\u001b[48;5;80m \u001b[48;5;68m30\u001b[48;5;167m.R\u001b[48;5;185mxc\u001b[48;5;80m1\u001b[48;5;68m Rd\u001b[48;5;179m6\u001b[48;5;185m \u001b[48;5;77m31\u001b[48;5;68m.R\u001b[48;5;167mc\u001b[48;5;179m4\u001b[48;5;185m h\u001b[48;5;80m6\u001b[48;5;68m \u001b[48;5;134m32\u001b[48;5;179m.h\u001b[48;5;77m4\u001b[48;5;80m Kg\u001b[48;5;167m6\u001b[48;5;179m \u001b[48;5;185m33\u001b[48;5;80m.K\u001b[48;5;134mg\u001b[48;5;167m2\u001b[48;5;179m h\u001b[48;5;77m5\u001b[48;5;80m \u001b[48;5;68m34\u001b[48;5;167m.K\u001b[48;5;185mg\u001b[48;5;77m3\u001b[48;5;80m f\u001b[48;5;134m5\u001b[48;5;167m \u001b[48;5;179m35\u001b[48;5;77m.R\u001b[48;5;68ma\u001b[48;5;134m4\u001b[48;5;167m a\u001b[48;5;185m5\u001b[48;5;77m \u001b[48;5;80m36\u001b[48;5;134m.R\u001b[48;5;179mc\u001b[48;5;185m4\u001b[48;5;77m K\u001b[48;5;68mf\u001b[48;5;134m7\u001b[48;5;167m \u001b[48;5;179m37\u001b[48;5;77m.K\u001b[48;5;68mg\u001b[48;5;134m2\u001b[48;5;167m Ke\u001b[48;5;77m7\u001b[48;5;80m \u001b[48;5;68m38\u001b[48;5;167m.K\u001b[48;5;185mf\u001b[48;5;77m1\u001b[48;5;80m K\u001b[48;5;134md\u001b[48;5;167m7\u001b[48;5;179m \u001b[48;5;185m39\u001b[48;5;80m.\u001b[48;5;68mKe\u001b[48;5;167m2\u001b[48;5;179m Rd\u001b[48;5;80m5\u001b[48;5;68m \u001b[48;5;134m40\u001b[48;5;179m.a\u001b[48;5;77m4\u001b[48;5;80m c\u001b[48;5;134m5\u001b[48;5;167m \u001b[48;5;179m41\u001b[48;5;77m.K\u001b[48;5;68md\u001b[48;5;134m3\u001b[48;5;167m c\u001b[48;5;185mxd\u001b[48;5;80m4\u001b[48;5;68m \u001b[48;5;134m42\u001b[48;5;179m.R\u001b[48;5;77mxd\u001b[48;5;68m4\u001b[48;5;134m c\u001b[48;5;179m5\u001b[48;5;185m \u001b[48;5;77m43\u001b[48;5;68m.R\u001b[48;5;167mxd\u001b[48;5;185m5\u001b[48;5;77m+\u001b[48;5;80m ex\u001b[48;5;167md\u001b[48;5;179m5\u001b[48;5;185m \u001b[48;5;77m44\u001b[48;5;68m.K\u001b[48;5;167md\u001b[48;5;179m2\u001b[48;5;185m c\u001b[48;5;80m4\u001b[48;5;68m \u001b[48;5;134m45\u001b[48;5;179m.K\u001b[48;5;77mc\u001b[48;5;80m3\u001b[48;5;68m Ke\u001b[48;5;179m6\u001b[48;5;185m \u001b[48;5;77m46\u001b[48;5;68m.K\u001b[48;5;167md\u001b[48;5;179m4\u001b[48;5;185m K\u001b[48;5;80md\u001b[48;5;68m6\u001b[48;5;134m \u001b[48;5;167m47\u001b[48;5;185m.\u001b[48;5;77mKe\u001b[48;5;68m3\u001b[48;5;134m K\u001b[48;5;179mc\u001b[48;5;185m5\u001b[48;5;77m \u001b[48;5;80m48\u001b[48;5;134m.K\u001b[48;5;179md\u001b[48;5;185m2\u001b[48;5;77m d\u001b[48;5;68m4\u001b[48;5;134m \u001b[48;5;167m49\u001b[48;5;185m.K\u001b[48;5;80mc\u001b[48;5;68m2\u001b[48;5;134m Kb\u001b[48;5;185m4\u001b[48;5;77m \u001b[48;5;80m50\u001b[48;5;134m.K\u001b[48;5;179mb\u001b[48;5;185m2\u001b[48;5;77m K\u001b[48;5;68mxa\u001b[48;5;167m4\u001b[48;5;179m \u001b[48;5;185m51\u001b[48;5;80m.K\u001b[48;5;134ma\u001b[48;5;167m2\u001b[48;5;179m c\u001b[48;5;77m3\u001b[48;5;80m \u001b[48;5;68m52\u001b[48;5;167m.K\u001b[48;5;185ma\u001b[48;5;77m1\u001b[48;5;80m Kb\u001b[48;5;167m3\u001b[48;5;179m \u001b[48;5;185m53\u001b[48;5;80m.K\u001b[48;5;134mb\u001b[48;5;167m1\u001b[48;5;179m a\u001b[48;5;77m4\u001b[48;5;80m \u001b[48;5;68m54\u001b[48;5;167m.K\u001b[48;5;185ma\u001b[48;5;77m1\u001b[48;5;80m d\u001b[48;5;134m3\u001b[48;5;167m \u001b[48;5;179m55\u001b[48;5;77m.K\u001b[48;5;68mb\u001b[48;5;134m1\u001b[48;5;167m d\u001b[48;5;185m2\u001b[48;5;77m \u001b[48;5;80m56\u001b[48;5;134m.K\u001b[48;5;179ma\u001b[48;5;185m1\u001b[48;5;77m d\u001b[48;5;68m1\u001b[48;5;134m=\u001b[48;5;167mQ\u001b[48;5;179m#\u001b[48;5;185m \u001b[0m\n",
      "---\n",
      "kn1ght Tokenizer:\n",
      "\u001b[48;5;167m1.\u001b[48;5;185md4\u001b[48;5;80m d5\u001b[48;5;167m 2.\u001b[48;5;77mNf3\u001b[48;5;134m Bf5\u001b[48;5;77m 3.\u001b[48;5;134mBf4\u001b[48;5;185m Nc6\u001b[48;5;134m 4.\u001b[48;5;185mh3\u001b[48;5;80m e6\u001b[48;5;167m 5.\u001b[48;5;77mc3\u001b[48;5;68m Bd6\u001b[48;5;185m 6.\u001b[48;5;68me3\u001b[48;5;167m Bxf4\u001b[48;5;68m 7.\u001b[48;5;179mexf4\u001b[48;5;68m Qd6\u001b[48;5;185m 8.\u001b[48;5;68mQd2\u001b[48;5;179m Nf6\u001b[48;5;68m 9.\u001b[48;5;179mBb5\u001b[48;5;80m a6\u001b[48;5;167m 10.\u001b[48;5;80mBxc6\u001b[48;5;179m+\u001b[48;5;185m bxc6\u001b[48;5;167m 11.\u001b[48;5;80mO-O\u001b[48;5;167m Ne4\u001b[48;5;80m 12.\u001b[48;5;179mQe3\u001b[48;5;80m Rb8\u001b[48;5;179m 13.\u001b[48;5;68mNbd2\u001b[48;5;185m Rxb2\u001b[48;5;167m 14.\u001b[48;5;80mRfd1\u001b[48;5;179m O-O\u001b[48;5;68m 15.\u001b[48;5;185mc4\u001b[48;5;80m Nxd2\u001b[48;5;185m 16.\u001b[48;5;134mNxd2\u001b[48;5;77m Qb4\u001b[48;5;167m 17.\u001b[48;5;80ma3\u001b[48;5;134m Qb7\u001b[48;5;77m 18.\u001b[48;5;167mQc3\u001b[48;5;77m dxc4\u001b[48;5;179m 19.\u001b[48;5;68mQxc4\u001b[48;5;185m Qb5\u001b[48;5;134m 20.\u001b[48;5;77mQc3\u001b[48;5;134m Rc2\u001b[48;5;77m 21.\u001b[48;5;167mQe3\u001b[48;5;77m Rd8\u001b[48;5;167m 22.\u001b[48;5;80mRd\u001b[48;5;134mb1\u001b[48;5;179m Qd3\u001b[48;5;68m 23.\u001b[48;5;185mQxd3\u001b[48;5;134m Bxd3\u001b[48;5;80m 24.\u001b[48;5;179mNf3\u001b[48;5;80m f6\u001b[48;5;167m 25.\u001b[48;5;80mRd1\u001b[48;5;167m Be2\u001b[48;5;80m 26.\u001b[48;5;179mRe1\u001b[48;5;80m Bxf3\u001b[48;5;185m 27.\u001b[48;5;134mgxf3\u001b[48;5;77m Kf7\u001b[48;5;167m 28.\u001b[48;5;80mRed1\u001b[48;5;179m Rc4\u001b[48;5;68m 29.\u001b[48;5;185mRac1\u001b[48;5;134m Rxc1\u001b[48;5;80m 30.\u001b[48;5;179mRxc1\u001b[48;5;68m Rd6\u001b[48;5;185m 31.\u001b[48;5;134mRc4\u001b[48;5;185m h6\u001b[48;5;68m 32.\u001b[48;5;185mh4\u001b[48;5;80m Kg6\u001b[48;5;179m 33.\u001b[48;5;68mKg2\u001b[48;5;179m h5\u001b[48;5;80m 34.\u001b[48;5;179mKg3\u001b[48;5;80m f5\u001b[48;5;167m 35.\u001b[48;5;80mRa4\u001b[48;5;167m a5\u001b[48;5;77m 36.\u001b[48;5;167mRc4\u001b[48;5;77m Kf7\u001b[48;5;167m 37.\u001b[48;5;80mKg2\u001b[48;5;167m Ke7\u001b[48;5;80m 38.\u001b[48;5;179mKf1\u001b[48;5;80m Kd7\u001b[48;5;179m 39.\u001b[48;5;68mKe2\u001b[48;5;179m Rd5\u001b[48;5;68m 40.\u001b[48;5;185ma4\u001b[48;5;80m c5\u001b[48;5;167m 41.\u001b[48;5;80mKd3\u001b[48;5;167m cxd4\u001b[48;5;68m 42.\u001b[48;5;185mRxd4\u001b[48;5;134m c5\u001b[48;5;185m 43.\u001b[48;5;134mRxd5\u001b[48;5;77m+\u001b[48;5;80m exd5\u001b[48;5;185m 44.\u001b[48;5;134mKd2\u001b[48;5;185m c4\u001b[48;5;68m 45.\u001b[48;5;185mKc3\u001b[48;5;68m Ke6\u001b[48;5;185m 46.\u001b[48;5;134mKd4\u001b[48;5;185m Kd6\u001b[48;5;134m 47.\u001b[48;5;77mKe3\u001b[48;5;134m Kc5\u001b[48;5;77m 48.\u001b[48;5;167mKd2\u001b[48;5;77m d4\u001b[48;5;134m 49.\u001b[48;5;77mKc2\u001b[48;5;134m Kb4\u001b[48;5;77m 50.\u001b[48;5;167mKb2\u001b[48;5;77m Kx\u001b[48;5;134ma4\u001b[48;5;179m 51.\u001b[48;5;68mKa2\u001b[48;5;179m c3\u001b[48;5;80m 52.\u001b[48;5;179mKa1\u001b[48;5;80m Kb3\u001b[48;5;179m 53.\u001b[48;5;68mKb1\u001b[48;5;179m a4\u001b[48;5;80m 54.\u001b[48;5;179mKa1\u001b[48;5;80m d3\u001b[48;5;167m 55.\u001b[48;5;80mKb1\u001b[48;5;167m d2\u001b[48;5;77m 56.\u001b[48;5;167mKa1\u001b[48;5;77m \u001b[48;5;80md1\u001b[48;5;134m=\u001b[48;5;167mQ\u001b[48;5;179m#\u001b[48;5;185m \u001b[0m\n"
     ]
    }
   ],
   "source": [
    "print(\"tiktoken gpt-4o Tokenizer:\")\n",
    "visualise_kn1ght_tokens(\n",
    "    tiktoken_gpt4o_encoding.decode_tokens_bytes(tiktoken_gpt4o_tokens)\n",
    ")\n",
    "print(\"---\")\n",
    "print(\"tiktoken gpt-4 Tokenizer:\")\n",
    "visualise_kn1ght_tokens(\n",
    "    tiktoken_gpt4_encoding.decode_tokens_bytes(tiktoken_gpt4_tokens)\n",
    ")\n",
    "print(\"---\")\n",
    "print(\"kn1ght Tokenizer:\")\n",
    "visualise_kn1ght_tokens(output.tokens)"
   ]
  },
  {
   "cell_type": "code",
   "execution_count": 16,
   "metadata": {},
   "outputs": [
    {
     "name": "stdout",
     "output_type": "stream",
     "text": [
      "Encoding(num_tokens=177, attributes=[ids, type_ids, tokens, offsets, attention_mask, special_tokens_mask, overflowing])\n",
      "1.d4 d5 2.Nf3 Bf5 3.Bf4 Nc6 4.h3 e6 5.c3 Bd6 6.e3 Bxf4 7.exf4 Qd6 8.Qd2 Nf6 9.Bb5 a6 10.Bxc6+ bxc6 11.O-O Ne4 12.Qe3 Rb8 13.Nbd2 Rxb2 14.Rfd1 O-O 15.c4 Nxd2 16.Nxd2 Qb4 17.a3 Qb7 18.Qc3 dxc4 19.Qxc4 Qb5 20.Qc3 Rc2 21.Qe3 Rd8 22.Rdb1 Qd3 23.Qxd3 Bxd3 24.Nf3 f6 25.Rd1 Be2 26.Re1 Bxf3 27.gxf3 Kf7 28.Red1 Rc4 29.Rac1 Rxc1 30.Rxc1 Rd6 31.Rc4 h6 32.h4 Kg6 33.Kg2 h5 34.Kg3 f5 35.Ra4 a5 36.Rc4 Kf7 37.Kg2 Ke7 38.Kf1 Kd7 39.Ke2 Rd5 40.a4 c5 41.Kd3 cxd4 42.Rxd4 c5 43.Rxd5+ exd5 44.Kd2 c4 45.Kc3 Ke6 46.Kd4 Kd6 47.Ke3 Kc5 48.Kd2 d4 49.Kc2 Kb4 50.Kb2 Kxa4 51.Ka2 c3 52.Ka1 Kb3 53.Kb1 a4 54.Ka1 d3 55.Kb1 d2 56.Ka1 d1=Q# \n",
      "True\n"
     ]
    }
   ],
   "source": [
    "test = tokenizer.decode(output.ids)\n",
    "print(output)\n",
    "print(test)\n",
    "print(test == sample)"
   ]
  },
  {
   "cell_type": "code",
   "execution_count": 17,
   "metadata": {},
   "outputs": [
    {
     "data": {
      "text/plain": [
       "'1.d4 d5 2.Nf3 Bf5'"
      ]
     },
     "execution_count": 17,
     "metadata": {},
     "output_type": "execute_result"
    }
   ],
   "source": [
    "tokenizer.decode(tokenizer.encode(\"1.d4 d5 2.Nf3 Bf5\").ids)"
   ]
  },
  {
   "cell_type": "code",
   "execution_count": 20,
   "metadata": {},
   "outputs": [
    {
     "data": {
      "text/plain": [
       "['../.data/tokenizer/kn1ght-vocab.json',\n",
       " '../.data/tokenizer/kn1ght-merges.txt']"
      ]
     },
     "execution_count": 20,
     "metadata": {},
     "output_type": "execute_result"
    }
   ],
   "source": [
    "tokenizer.model.save(\"../.data/tokenizer/\", \"kn1ght\")"
   ]
  }
 ],
 "metadata": {
  "kernelspec": {
   "display_name": ".venv",
   "language": "python",
   "name": "python3"
  },
  "language_info": {
   "codemirror_mode": {
    "name": "ipython",
    "version": 3
   },
   "file_extension": ".py",
   "mimetype": "text/x-python",
   "name": "python",
   "nbconvert_exporter": "python",
   "pygments_lexer": "ipython3",
   "version": "3.13.1"
  }
 },
 "nbformat": 4,
 "nbformat_minor": 2
}
