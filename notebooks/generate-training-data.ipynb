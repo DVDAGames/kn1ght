{
 "cells": [
  {
   "cell_type": "code",
   "execution_count": 1,
   "metadata": {},
   "outputs": [],
   "source": [
    "%%capture\n",
    "!uv pip install polars"
   ]
  },
  {
   "cell_type": "code",
   "execution_count": 2,
   "metadata": {},
   "outputs": [],
   "source": [
    "import polars as pl"
   ]
  },
  {
   "cell_type": "code",
   "execution_count": 3,
   "metadata": {},
   "outputs": [],
   "source": [
    "from kn1ght.constants import SPECIAL_TOKENS"
   ]
  },
  {
   "cell_type": "code",
   "execution_count": 4,
   "metadata": {},
   "outputs": [],
   "source": [
    "CURRENT_DATASET = \"/chess_games_2025-01-17.csv\"\n",
    "DATA_DIRECTORY = \"../.data/\"\n",
    "CURRENT_DATASET_PATH = DATA_DIRECTORY + CURRENT_DATASET"
   ]
  },
  {
   "cell_type": "code",
   "execution_count": 5,
   "metadata": {},
   "outputs": [
    {
     "data": {
      "text/html": [
       "<div><style>\n",
       ".dataframe > thead > tr,\n",
       ".dataframe > tbody > tr {\n",
       "  text-align: right;\n",
       "  white-space: pre-wrap;\n",
       "}\n",
       "</style>\n",
       "<small>shape: (5, 5)</small><table border=\"1\" class=\"dataframe\"><thead><tr><th>Date</th><th>Result</th><th>WhiteElo</th><th>BlackElo</th><th>PGN</th></tr><tr><td>str</td><td>str</td><td>i64</td><td>i64</td><td>str</td></tr></thead><tbody><tr><td>&quot;2000.03.14&quot;</td><td>&quot;1-0&quot;</td><td>2851</td><td>null</td><td>&quot;1.d4 d5 2.c4 e6 3.Nc3 Nf6 4.cx…</td></tr><tr><td>&quot;2000.03.14&quot;</td><td>&quot;1-0&quot;</td><td>2851</td><td>null</td><td>&quot;1.e4 d5 2.exd5 Qxd5 3.Nc3 Qa5 …</td></tr><tr><td>&quot;1999.11.20&quot;</td><td>&quot;1-0&quot;</td><td>2851</td><td>null</td><td>&quot;1.e4 e5 2.Nf3 Nc6 3.Bc4 Bc5 4.…</td></tr><tr><td>&quot;1999.11.20&quot;</td><td>&quot;1-0&quot;</td><td>2851</td><td>null</td><td>&quot;1.e4 d5 2.exd5 Qxd5 3.Nc3 Qa5 …</td></tr><tr><td>&quot;2000.02.20&quot;</td><td>&quot;1/2-1/2&quot;</td><td>2851</td><td>2633</td><td>&quot;1.e4 e5 2.Nf3 Nc6 3.Bb5 a6 4.B…</td></tr></tbody></table></div>"
      ],
      "text/plain": [
       "shape: (5, 5)\n",
       "┌────────────┬─────────┬──────────┬──────────┬─────────────────────────────────┐\n",
       "│ Date       ┆ Result  ┆ WhiteElo ┆ BlackElo ┆ PGN                             │\n",
       "│ ---        ┆ ---     ┆ ---      ┆ ---      ┆ ---                             │\n",
       "│ str        ┆ str     ┆ i64      ┆ i64      ┆ str                             │\n",
       "╞════════════╪═════════╪══════════╪══════════╪═════════════════════════════════╡\n",
       "│ 2000.03.14 ┆ 1-0     ┆ 2851     ┆ null     ┆ 1.d4 d5 2.c4 e6 3.Nc3 Nf6 4.cx… │\n",
       "│ 2000.03.14 ┆ 1-0     ┆ 2851     ┆ null     ┆ 1.e4 d5 2.exd5 Qxd5 3.Nc3 Qa5 … │\n",
       "│ 1999.11.20 ┆ 1-0     ┆ 2851     ┆ null     ┆ 1.e4 e5 2.Nf3 Nc6 3.Bc4 Bc5 4.… │\n",
       "│ 1999.11.20 ┆ 1-0     ┆ 2851     ┆ null     ┆ 1.e4 d5 2.exd5 Qxd5 3.Nc3 Qa5 … │\n",
       "│ 2000.02.20 ┆ 1/2-1/2 ┆ 2851     ┆ 2633     ┆ 1.e4 e5 2.Nf3 Nc6 3.Bb5 a6 4.B… │\n",
       "└────────────┴─────────┴──────────┴──────────┴─────────────────────────────────┘"
      ]
     },
     "execution_count": 5,
     "metadata": {},
     "output_type": "execute_result"
    }
   ],
   "source": [
    "df = pl.read_csv(CURRENT_DATASET_PATH, null_values=[\"None\"])\n",
    "\n",
    "df.head()"
   ]
  },
  {
   "cell_type": "code",
   "execution_count": 6,
   "metadata": {},
   "outputs": [],
   "source": [
    "def test_train_validate_splits(data, directory) -> None:\n",
    "    data[:] = (SPECIAL_TOKENS[\"START\"] + d + SPECIAL_TOKENS[\"END\"] for d in data)\n",
    "\n",
    "    training_data_end_index = int(len(data) * 0.8)\n",
    "    test_data_end_index = int(len(data) * 0.9)\n",
    "\n",
    "    training_data = list(data[0:training_data_end_index])\n",
    "    test_data = list(data[training_data_end_index:test_data_end_index])\n",
    "    validation_data = list(data[test_data_end_index:])\n",
    "\n",
    "    training_files = [training_data, test_data, validation_data]\n",
    "\n",
    "    file_names = [\"training_data\", \"test_data\", \"validation_data\"]\n",
    "\n",
    "    for i, f in enumerate(training_files):\n",
    "        with open(f\"{directory}/{file_names[i]}.txt\", \"w\") as file:\n",
    "            file.write(\"\\n\".join(f))\n",
    "            print(f\"{file_names[i]} created...\")"
   ]
  },
  {
   "cell_type": "code",
   "execution_count": 7,
   "metadata": {},
   "outputs": [
    {
     "name": "stdout",
     "output_type": "stream",
     "text": [
      "training_data created...\n",
      "test_data created...\n",
      "validation_data created...\n"
     ]
    }
   ],
   "source": [
    "all_training_data = pl.Series(df.select(pl.col(\"PGN\").shuffle())).to_list()\n",
    "\n",
    "test_train_validate_splits(all_training_data, DATA_DIRECTORY)"
   ]
  }
 ],
 "metadata": {
  "kernelspec": {
   "display_name": ".venv",
   "language": "python",
   "name": "python3"
  },
  "language_info": {
   "codemirror_mode": {
    "name": "ipython",
    "version": 3
   },
   "file_extension": ".py",
   "mimetype": "text/x-python",
   "name": "python",
   "nbconvert_exporter": "python",
   "pygments_lexer": "ipython3",
   "version": "3.12.8"
  }
 },
 "nbformat": 4,
 "nbformat_minor": 2
}
