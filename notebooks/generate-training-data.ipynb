{
 "cells": [
  {
   "cell_type": "code",
   "execution_count": 1,
   "metadata": {},
   "outputs": [],
   "source": [
    "%%capture\n",
    "!uv pip install datasets"
   ]
  },
  {
   "cell_type": "code",
   "execution_count": 2,
   "metadata": {},
   "outputs": [],
   "source": [
    "import datetime\n",
    "\n",
    "from datasets import load_dataset, DatasetDict, load_from_disk"
   ]
  },
  {
   "cell_type": "code",
   "execution_count": 3,
   "metadata": {},
   "outputs": [],
   "source": [
    "from kn1ght.constants import SPECIAL_TOKENS"
   ]
  },
  {
   "cell_type": "code",
   "execution_count": 4,
   "metadata": {},
   "outputs": [],
   "source": [
    "date = datetime.datetime.now().strftime(\"%Y-%m-%d\")\n",
    "\n",
    "CURRENT_DATASET = \"chess_games_2025-01-17.csv\"\n",
    "DATA_DIRECTORY = \"../.data\"\n",
    "DATASET_PATH = DATA_DIRECTORY + \"/datasets\"\n",
    "SAMPLE_OUTPUT_PATH = DATASET_PATH + \"/sample/\" + date\n",
    "DATASET_OUTPUT_PATH = DATASET_PATH + \"/full/\" + date\n",
    "CURRENT_DATASET_PATH = DATASET_PATH + \"/\" + CURRENT_DATASET"
   ]
  },
  {
   "cell_type": "code",
   "execution_count": 5,
   "metadata": {},
   "outputs": [],
   "source": [
    "dataset = load_dataset(\"csv\", data_files=CURRENT_DATASET_PATH)"
   ]
  },
  {
   "cell_type": "code",
   "execution_count": 6,
   "metadata": {},
   "outputs": [
    {
     "name": "stdout",
     "output_type": "stream",
     "text": [
      "DatasetDict({\n",
      "    train: Dataset({\n",
      "        features: ['Date', 'Result', 'WhiteElo', 'BlackElo', 'PGN'],\n",
      "        num_rows: 3561470\n",
      "    })\n",
      "})\n"
     ]
    }
   ],
   "source": [
    "print(dataset)"
   ]
  },
  {
   "cell_type": "code",
   "execution_count": 7,
   "metadata": {},
   "outputs": [],
   "source": [
    "def add_start_and_end_tokens(items):\n",
    "    PGNs = items[\"PGN\"]\n",
    "\n",
    "    for i, pgn in enumerate(PGNs):\n",
    "        if pgn is not None:\n",
    "            items[\"PGN\"][i] = SPECIAL_TOKENS[\"START\"] + pgn + SPECIAL_TOKENS[\"END\"]\n",
    "\n",
    "    return items\n",
    "\n",
    "\n",
    "dataset[\"train\"] = (\n",
    "    dataset[\"train\"]\n",
    "    .filter(lambda x: x[\"PGN\"] is not None)\n",
    "    .map(lambda x: add_start_and_end_tokens(x), batched=True)\n",
    ")"
   ]
  },
  {
   "cell_type": "code",
   "execution_count": 8,
   "metadata": {},
   "outputs": [
    {
     "data": {
      "text/plain": [
       "DatasetDict({\n",
       "    train: Dataset({\n",
       "        features: ['Date', 'Result', 'WhiteElo', 'BlackElo', 'PGN'],\n",
       "        num_rows: 3523492\n",
       "    })\n",
       "})"
      ]
     },
     "execution_count": 8,
     "metadata": {},
     "output_type": "execute_result"
    }
   ],
   "source": [
    "dataset"
   ]
  },
  {
   "cell_type": "code",
   "execution_count": 9,
   "metadata": {},
   "outputs": [],
   "source": [
    "sample = dataset[\"train\"].train_test_split(\n",
    "    test_size=1000, train_size=10000, shuffle=True, seed=1997\n",
    ")"
   ]
  },
  {
   "cell_type": "code",
   "execution_count": 10,
   "metadata": {},
   "outputs": [],
   "source": [
    "sample_temp_dataset = sample[\"test\"].train_test_split(test_size=0.5, seed=1997)\n",
    "\n",
    "sample_dataset_dict = {\n",
    "    \"train\": sample[\"train\"],\n",
    "    \"test\": sample_temp_dataset[\"train\"],\n",
    "    \"validation\": sample_temp_dataset[\"test\"],\n",
    "}"
   ]
  },
  {
   "cell_type": "code",
   "execution_count": 11,
   "metadata": {},
   "outputs": [
    {
     "data": {
      "application/vnd.jupyter.widget-view+json": {
       "model_id": "b4a7e68088e9495dbe882d287bb7322d",
       "version_major": 2,
       "version_minor": 0
      },
      "text/plain": [
       "Saving the dataset (0/1 shards):   0%|          | 0/10000 [00:00<?, ? examples/s]"
      ]
     },
     "metadata": {},
     "output_type": "display_data"
    },
    {
     "data": {
      "application/vnd.jupyter.widget-view+json": {
       "model_id": "f49c7f98d1bb4662ba3c8b86efeb3e6c",
       "version_major": 2,
       "version_minor": 0
      },
      "text/plain": [
       "Saving the dataset (0/1 shards):   0%|          | 0/500 [00:00<?, ? examples/s]"
      ]
     },
     "metadata": {},
     "output_type": "display_data"
    },
    {
     "data": {
      "application/vnd.jupyter.widget-view+json": {
       "model_id": "a77c285ae91b47bdb68791f8e37e5689",
       "version_major": 2,
       "version_minor": 0
      },
      "text/plain": [
       "Saving the dataset (0/1 shards):   0%|          | 0/500 [00:00<?, ? examples/s]"
      ]
     },
     "metadata": {},
     "output_type": "display_data"
    }
   ],
   "source": [
    "sample_dataset_dict = DatasetDict(sample_dataset_dict)\n",
    "\n",
    "sample_dataset_dict.save_to_disk(SAMPLE_OUTPUT_PATH)"
   ]
  },
  {
   "cell_type": "code",
   "execution_count": 12,
   "metadata": {},
   "outputs": [
    {
     "name": "stdout",
     "output_type": "stream",
     "text": [
      "[g_start]1.e4 e5 2.Nf3 Qe7 3.Nc3 Nf6 4.Bc4 Nc6 5.d3 d6 6.O-O Bg4 7.h3 Bh5 8.Bb5 Qd7 9.Qe2 a6 10.Bxc6 Qxc6 11.Qe3 d5 12.exd5 Qd7 13.Nxe5 Qe7 14.Nc4 a5 15.Re1 g6 16.Qd2 Be2 17.Rxe2 Ne4 18.Rxe4 Rd8 19.Rxe7+ Bxe7 20.Qe2 b6 21.Bg5 f6 22.Bxf6 Ra8 23.Qxe7#[g_end]\n",
      "---\n",
      "[g_start]1.e4 c5 2.Nf3 Nc6 3.d4 cxd4 4.Nxd4 Nf6 5.Nc3 e5 6.Ndb5 d6 7.a4 Be6 8.Be2 a6 9.Na3 d5 10.exd5 Nxd5 11.Nxd5 Bxd5 12.O-O Bc5 13.Nc4 O-O 14.Bg5 f6 15.Be3 Nd4 16.a5 Qc7 17.f4 Kh8 18.Kh1 Qc6 19.Rf3 Nxf3 20.Bxf3 e4 21.Bxc5 Qxc5 22.Nb6 exf3 23.Qxd5 Qxd5 24.Nxd5 fxg2+ 25.Kxg2 Rac8 26.Ne3 g6 27.Kf3 Kg7 28.Ra3 Rc5 29.c4 Rd8 30.b4 Rh5 31.Kg3 g5 32.Nd5 gxf4+ 33.Nxf4 Rg5+ 34.Kf3 Re5 35.Re3 Rd2 36.Ne6+ Kf7 37.Ng5+ Rxg5 38.h4 Rf5+[g_end]\n",
      "---\n",
      "[g_start]1.Nf3 Nf6 2.c4 g6 3.b3 Bg7 4.Bb2 d6 5.e3 O-O 6.Be2 e5 7.O-O e4 8.Ne1 c6 9.d3 d5 10.Nd2 Qc7 11.cxd5 Ng4 12.d6 Qxd6 13.Bxg4 Bxb2 14.Bxc8 Rxc8 15.Nxe4 Qe7 16.Rb1 Bg7 17.b4 Nd7 18.Nf3 Re8 19.Qc2 Rac8 20.Rfc1 Nb6 21.Qc5 Rc7 22.Qxe7 Rexe7 23.Nc5 Nd5 24.d4 Bh6 25.Kf1 a6 26.Na4 Kf8 27.Nc3 Nxc3 28.Rxc3 Ke8 29.Rbc1 Kd8 30.Ne5 f6 31.Nc4 Bf8 32.Nb6 Rf7 33.h3 Bd6 34.Nc4 Bf8 35.Ke2 Rcd7 36.Nb6 Rc7 37.h4 Bd6 38.Nc4 Bf8 39.Kd3 Rfe7 40.Nb6 Bh6 41.g3 Bg7 42.Kc2 Rf7 43.Kb3 Rfe7 44.Rd1 f5 45.Rcd3 Ke8 46.d5 Re5 47.d6 Rf7 48.Nc4 Re6 49.d7+ Kd8 50.Na5 Bf6 51.Nxb7+[g_end]\n",
      "---\n",
      "[g_start]1.d4 Nf6 2.Nf3 c5 3.d5 e6 4.c4 exd5 5.cxd5 d6 6.Nc3 g6 7.e4 a6 8.a4 Bg4 9.Qb3 Bxf3 10.Qxb7 Nbd7 11.gxf3 Bg7 12.Bf4 O-O 13.Bd3 Re8 14.Bxa6 Qa5 15.Bd3 c4 16.Bxc4 Nxe4 17.fxe4 Bxc3+ 18.Kf1 Ne5 19.Be2 Bd4 20.Rd1 Qxa4 21.b3 Qa2 22.Rxd4 Qc2 23.Bxe5 Ra1+ 24.Kg2 Rxh1 25.Qc6 Qxc6 26.dxc6 Re1 27.c7 Rxe2 28.c8=Q[g_end]\n",
      "---\n",
      "[g_start]1.Nf3 Nf6 2.d4 d5 3.g3 Bf5 4.Bg2 e6 5.O-O Nbd7 6.c4 c6 7.Nbd2 Be7 8.b3 O-O 9.Bb2 h6 10.Ne5 Nxe5 11.dxe5 Nd7 12.e4 dxe4 13.Bxe4 Bxe4 14.Nxe4 Qc7 15.f4 Nc5 16.Nd6 Rad8 17.Qd4 b6 18.Rad1 Nb7 19.Qc3 f6 20.Nxb7 Qxb7 21.Qf3 f5 22.Bc3 a6 23.h3 b5 24.Kh2 Kh7 25.g4 g6 26.Rg1 Rxd1 27.Qxd1 Rd8 28.Qf3 Bc5 29.Rg2 Rg8 30.Rd2 Rg7 31.b4 Bf8 32.Qd3 bxc4 33.Qxc4 Rd7 34.Rxd7+ Qxd7 35.Qxa6 fxg4 36.hxg4 Qd1 37.Qxc6 Qxg4 38.Qb7+ Bg7 39.Qe4 Qh4+ 40.Kg2 Qg4+ 41.Kf2 Qh3 42.Bd2 Qg4 43.b5 Qd1 44.Qb4 Bf8 45.Qb2 Bc5+ 46.Be3 Bxe3+ 47.Kxe3 Qg1+ 48.Ke4 Qe1+ 49.Kd4 Qg3 50.b6 Qxf4+ 51.Kc5 Qf8+ 52.Kc6 Qc8+ 53.Kd6 Qd8+ 54.Kxe6 Qe8+ 55.Kd6 Qd8+ 56.Kc5 Qc8+ 57.Kb5 Qe8+ 58.Kc4 Qc6+ 59.Kd4 Qd7+ 60.Ke4 Qg4+ 61.Kd3 Qf5+ 62.Kc4 Qe6+ 63.Kc5 Qc8+ 64.Kb4 Qf8+ 65.Kc4 Qc8+ 66.Kd3 Qf5+ 67.Kd2 Qf4+ 68.Kd3 Qf5+ 69.Kd2 Qf4+ 70.Kc2 Qe4+ 71.Kb3 Qd5+ 72.Ka4 Qa8+ 73.Kb4 Qf8+ 74.Kb3 Qf7+ 75.Ka3 Qf8+ 76.Qb4 Qa8+ 77.Kb3 Qf3+ 78.Qc3 Qd5+ 79.Qc4 Qf3+ 80.Kb4 Qf8+[g_end]\n",
      "---\n"
     ]
    }
   ],
   "source": [
    "import random\n",
    "\n",
    "test = load_from_disk(dataset_path=SAMPLE_OUTPUT_PATH)\n",
    "\n",
    "pgns = []\n",
    "\n",
    "for x in test[\"train\"].select_columns(\"PGN\").to_list():\n",
    "    pgns.append(x[\"PGN\"])\n",
    "\n",
    "random_items = random.sample(pgns, 5)\n",
    "\n",
    "for item in random_items:\n",
    "    print(item)\n",
    "    print(\"---\")"
   ]
  },
  {
   "cell_type": "code",
   "execution_count": 13,
   "metadata": {},
   "outputs": [],
   "source": [
    "train = dataset[\"train\"].train_test_split(test_size=0.9, seed=1997)\n",
    "temp_dataset = train[\"test\"].train_test_split(test_size=0.5, seed=1997)\n",
    "\n",
    "dataset_dict = {\n",
    "    \"train\": train[\"train\"],\n",
    "    \"test\": temp_dataset[\"train\"],\n",
    "    \"validation\": temp_dataset[\"test\"],\n",
    "}"
   ]
  },
  {
   "cell_type": "code",
   "execution_count": 14,
   "metadata": {},
   "outputs": [
    {
     "data": {
      "text/plain": [
       "{'train': Dataset({\n",
       "     features: ['Date', 'Result', 'WhiteElo', 'BlackElo', 'PGN'],\n",
       "     num_rows: 352349\n",
       " }),\n",
       " 'test': Dataset({\n",
       "     features: ['Date', 'Result', 'WhiteElo', 'BlackElo', 'PGN'],\n",
       "     num_rows: 1585571\n",
       " }),\n",
       " 'validation': Dataset({\n",
       "     features: ['Date', 'Result', 'WhiteElo', 'BlackElo', 'PGN'],\n",
       "     num_rows: 1585572\n",
       " })}"
      ]
     },
     "execution_count": 14,
     "metadata": {},
     "output_type": "execute_result"
    }
   ],
   "source": [
    "dataset_dict"
   ]
  },
  {
   "cell_type": "code",
   "execution_count": 15,
   "metadata": {},
   "outputs": [
    {
     "data": {
      "application/vnd.jupyter.widget-view+json": {
       "model_id": "31352c2911dc47f2870f30cfeefec3e9",
       "version_major": 2,
       "version_minor": 0
      },
      "text/plain": [
       "Saving the dataset (0/1 shards):   0%|          | 0/352349 [00:00<?, ? examples/s]"
      ]
     },
     "metadata": {},
     "output_type": "display_data"
    },
    {
     "data": {
      "application/vnd.jupyter.widget-view+json": {
       "model_id": "e4012967fdf8444385065f0fe8c1a7be",
       "version_major": 2,
       "version_minor": 0
      },
      "text/plain": [
       "Saving the dataset (0/2 shards):   0%|          | 0/1585571 [00:00<?, ? examples/s]"
      ]
     },
     "metadata": {},
     "output_type": "display_data"
    },
    {
     "data": {
      "application/vnd.jupyter.widget-view+json": {
       "model_id": "bead63d153b14a4a9c147caf24eb2feb",
       "version_major": 2,
       "version_minor": 0
      },
      "text/plain": [
       "Saving the dataset (0/2 shards):   0%|          | 0/1585572 [00:00<?, ? examples/s]"
      ]
     },
     "metadata": {},
     "output_type": "display_data"
    }
   ],
   "source": [
    "dataset_dict = DatasetDict(dataset_dict)\n",
    "\n",
    "dataset_dict.save_to_disk(DATASET_OUTPUT_PATH)"
   ]
  }
 ],
 "metadata": {
  "kernelspec": {
   "display_name": ".venv",
   "language": "python",
   "name": "python3"
  },
  "language_info": {
   "codemirror_mode": {
    "name": "ipython",
    "version": 3
   },
   "file_extension": ".py",
   "mimetype": "text/x-python",
   "name": "python",
   "nbconvert_exporter": "python",
   "pygments_lexer": "ipython3",
   "version": "3.12.8"
  }
 },
 "nbformat": 4,
 "nbformat_minor": 2
}
