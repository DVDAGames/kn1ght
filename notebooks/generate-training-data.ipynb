{
 "cells": [
  {
   "cell_type": "code",
   "execution_count": 1,
   "metadata": {},
   "outputs": [],
   "source": [
    "%%capture\n",
    "!uv pip install datasets"
   ]
  },
  {
   "cell_type": "code",
   "execution_count": 2,
   "metadata": {},
   "outputs": [],
   "source": [
    "import datetime\n",
    "\n",
    "from datasets import load_dataset, DatasetDict, load_from_disk"
   ]
  },
  {
   "cell_type": "code",
   "execution_count": 3,
   "metadata": {},
   "outputs": [],
   "source": [
    "from kn1ght.constants import SPECIAL_TOKENS"
   ]
  },
  {
   "cell_type": "code",
   "execution_count": 4,
   "metadata": {},
   "outputs": [],
   "source": [
    "date = datetime.datetime.now().strftime(\"%Y-%m-%d\")\n",
    "\n",
    "CURRENT_DATASET = \"chess_games_2025-01-17.csv\"\n",
    "DATA_DIRECTORY = \"../.data\"\n",
    "DATASET_PATH = DATA_DIRECTORY + \"/datasets\"\n",
    "SAMPLE_OUTPUT_PATH = DATASET_PATH + \"/sample/\" + date\n",
    "DATASET_OUTPUT_PATH = DATASET_PATH + \"/\" + date\n",
    "CURRENT_DATASET_PATH = DATASET_PATH + \"/\" + CURRENT_DATASET"
   ]
  },
  {
   "cell_type": "code",
   "execution_count": 5,
   "metadata": {},
   "outputs": [],
   "source": [
    "dataset = load_dataset(\"csv\", data_files=CURRENT_DATASET_PATH)"
   ]
  },
  {
   "cell_type": "code",
   "execution_count": 6,
   "metadata": {},
   "outputs": [
    {
     "name": "stdout",
     "output_type": "stream",
     "text": [
      "DatasetDict({\n",
      "    train: Dataset({\n",
      "        features: ['Date', 'Result', 'WhiteElo', 'BlackElo', 'PGN'],\n",
      "        num_rows: 3561470\n",
      "    })\n",
      "})\n"
     ]
    }
   ],
   "source": [
    "print(dataset)"
   ]
  },
  {
   "cell_type": "code",
   "execution_count": 7,
   "metadata": {},
   "outputs": [],
   "source": [
    "def add_start_and_end_tokens(items):\n",
    "    PGNs = items[\"PGN\"]\n",
    "\n",
    "    for i, pgn in enumerate(PGNs):\n",
    "        if pgn is not None:\n",
    "            items[\"PGN\"][i] = SPECIAL_TOKENS[\"START\"] + pgn + SPECIAL_TOKENS[\"END\"]\n",
    "\n",
    "    return items\n",
    "\n",
    "\n",
    "dataset[\"train\"] = (\n",
    "    dataset[\"train\"]\n",
    "    .filter(lambda x: x[\"PGN\"] is not None)\n",
    "    .map(lambda x: add_start_and_end_tokens(x), batched=True)\n",
    ")"
   ]
  },
  {
   "cell_type": "code",
   "execution_count": 8,
   "metadata": {},
   "outputs": [
    {
     "data": {
      "text/plain": [
       "{'Date': '2000.02.20',\n",
       " 'Result': '1/2-1/2',\n",
       " 'WhiteElo': 2851,\n",
       " 'BlackElo': 2633.0,\n",
       " 'PGN': '[g_start]1.e4 e5 2.Nf3 Nc6 3.Bb5 a6 4.Ba4 Nf6 5.O-O Be7 6.Re1 b5 7.Bb3 d6 8.c3 O-O 9.h3 Na5 10.Bc2 c5 11.d4 Qc7 12.Nbd2 Bd7 13.Nf1 cxd4 14.cxd4 Rac8 15.Ne3 Nc6 16.d5 Nb4 17.Bb1 a5 18.a3 Na6 19.b4 Ra8 20.Bd2 Rfc8 21.Bd3 Qb7 22.g4 g6 23.Nf1 axb4 24.axb4 Bd8 25.Ng3 Nc7 26.Qe2 Rxa1 27.Rxa1 Ra8 28.Qe1 Nfe8 29.Qc1 Ng7 30.Rxa8 Qxa8 31.Bh6 Nce8 32.Qb2 Qa4 33.Kg2 Bb6 34.Bc2 Qa7 35.Bd3 Qa4 36.Ne2 Nc7 37.Nxe5 dxe5 38.Qxe5 Nce8 39.Bxg7 Qd1 40.Bh6 Qxd3 41.Qe7 Ng7 42.Ng3 Qc2 43.Qf6 Nf5 44.Qxb6 Nh4+ 45.Kh2 Nf3+ 46.Kg2 Nh4+ 47.Kh2 Nf3+ 48.Kg2 Nh4+ 49.Kh2[g_end]'}"
      ]
     },
     "execution_count": 8,
     "metadata": {},
     "output_type": "execute_result"
    }
   ],
   "source": [
    "dataset[\"train\"][4]"
   ]
  },
  {
   "cell_type": "code",
   "execution_count": 9,
   "metadata": {},
   "outputs": [],
   "source": [
    "sample = dataset[\"train\"].train_test_split(\n",
    "    test_size=1000, train_size=10000, shuffle=True, seed=1997\n",
    ")"
   ]
  },
  {
   "cell_type": "code",
   "execution_count": 10,
   "metadata": {},
   "outputs": [],
   "source": [
    "sample_temp_dataset = sample[\"test\"].train_test_split(test_size=0.5, seed=1997)\n",
    "\n",
    "sample_dataset_dict = {\n",
    "    \"train\": sample[\"train\"],\n",
    "    \"test\": sample_temp_dataset[\"train\"],\n",
    "    \"validation\": sample_temp_dataset[\"test\"],\n",
    "}"
   ]
  },
  {
   "cell_type": "code",
   "execution_count": 11,
   "metadata": {},
   "outputs": [
    {
     "data": {
      "application/vnd.jupyter.widget-view+json": {
       "model_id": "aa24433879574088b005303c054cbe91",
       "version_major": 2,
       "version_minor": 0
      },
      "text/plain": [
       "Saving the dataset (0/1 shards):   0%|          | 0/10000 [00:00<?, ? examples/s]"
      ]
     },
     "metadata": {},
     "output_type": "display_data"
    },
    {
     "data": {
      "application/vnd.jupyter.widget-view+json": {
       "model_id": "fdf5d7fdf2484c46b3d64e1cedf49546",
       "version_major": 2,
       "version_minor": 0
      },
      "text/plain": [
       "Saving the dataset (0/1 shards):   0%|          | 0/500 [00:00<?, ? examples/s]"
      ]
     },
     "metadata": {},
     "output_type": "display_data"
    },
    {
     "data": {
      "application/vnd.jupyter.widget-view+json": {
       "model_id": "c6a94da5d645440ca8d5e6b4e300b072",
       "version_major": 2,
       "version_minor": 0
      },
      "text/plain": [
       "Saving the dataset (0/1 shards):   0%|          | 0/500 [00:00<?, ? examples/s]"
      ]
     },
     "metadata": {},
     "output_type": "display_data"
    }
   ],
   "source": [
    "sample_dataset_dict = DatasetDict(sample_dataset_dict)\n",
    "\n",
    "sample_dataset_dict.save_to_disk(SAMPLE_OUTPUT_PATH)"
   ]
  },
  {
   "cell_type": "code",
   "execution_count": 12,
   "metadata": {},
   "outputs": [
    {
     "name": "stdout",
     "output_type": "stream",
     "text": [
      "[g_start]1.e4 e5 2.Nf3 Nc6 3.Nc3 Nf6 4.d4 exd4 5.Nxd4 Bb4 6.Nxc6 bxc6 7.Bd3 d5 8.exd5 cxd5 9.Qe2+ Qe7 10.Qxe7+ Bxe7 11.O-O c6 12.Na4 Be6[g_end]\n",
      "---\n",
      "[g_start]1.e4 c5 2.c3 e6 3.d4 d5 4.e5 Nc6 5.Nf3 Qb6 6.a3 c4 7.g3 Na5 8.Nbd2 Bd7 9.Bh3 Be7 10.O-O h5 11.Ne1 g6 12.f4 Nh6 13.Nef3 O-O-O 14.Ng5 Nb3 15.Nxb3 Ba4 16.Be3 Bxb3 17.Qe2 Rdf8 18.Nf3 a5[g_end]\n",
      "---\n",
      "[g_start]1.e4 e5 2.Nf3 Nc6 3.Bb5 a6 4.Bxc6 dxc6 5.Nc3 Bd6 6.d4 Bg4 7.dxe5 Bxf3 8.Qxf3 Bxe5 9.O-O Qf6 10.Qxf6 Nxf6 11.f3 O-O-O 12.Be3 Bd4 13.Bxd4 Rxd4 14.Rfd1 Rhd8 15.Rxd4 Rxd4 16.Rd1 c5 17.Kf2 b5 18.Ke2 Nd7 19.Rd3 Ne5 20.Rxd4 cxd4 21.Nd5 c5 22.Ne7+ Kd7 23.Nf5 g6 24.Nh6 f6 25.f4 Nc4 26.b3 Na3 27.Kd2 Nb1+ 28.Kd3 Nc3 29.a3 Nd1 30.Ng4 Ke6 31.e5 f5 32.Nf6 h6 33.Ne8 Kd7 34.Nd6 Nf2+ 35.Ke2 Ne4 36.Nf7 h5 37.Nh8 g5 38.Ng6 g4 39.Nh4 Ke6 40.g3 a5 41.b4 a4 42.Kd1 c4 43.Ng6 Kf7 44.Nh4 Ke6 45.Ng2 Nc3+ 46.Kc1 Ne4 47.Kb2 c3+ 48.Kc1 Nd2 49.Ne1 Nf3 50.Nd3 Nxh2 51.Nc5+ Ke7 52.Nxa4 h4 53.Kd1 h3 54.Nc5 Nf1 55.Nd3 h2 56.Nf2 Nxg3 57.Ke1 h1=Q+ 58.Nxh1 Nxh1 59.Ke2 g3[g_end]\n",
      "---\n",
      "[g_start]1.d4 Nf6 2.c4 g6 3.Nc3 Bg7 4.e4 d6 5.Be2 O-O 6.Nf3 Nbd7 7.O-O e5 8.Be3 c6 9.d5 Ng4 10.Bg5 f6 11.Bh4 Qe7 12.Ne1 Nh6 13.Nd3 c5 14.Nb5 Nb6 15.b4 Nxc4 16.Nxc5 Nb6 17.Ne6 Bxe6 18.dxe6 Rad8 19.Qb3 d5 20.f3 a6 21.Bf2 d4 22.Nc7 Kh8 23.Rac1 Rc8 24.Nxa6 bxa6 25.Bxa6 Rxc1 26.Rxc1 f5 27.Rc6 fxe4 28.Rxb6 Qg5 29.Be2 exf3 30.Bxf3 e4 31.h4 Qc1+ 32.Qd1 Qc7 33.Bxe4 Qxb6 34.e7 Rc8 35.Qc2 Qe6 36.Bd5 Qd7 37.Qe4 Re8 38.Bxd4 Qxe7 39.Bxg7+ Kxg7 40.Qxe7+ Rxe7 41.b5 Ng4 42.g3 Nf6 43.Bb3 Nd7 44.Kf2 Nc5 45.Bd5 Kf6 46.Kf3 Ke5 47.Bc4 Ra7 48.Bg8 h5 49.Bc4 Kd4 50.Bg8 Rg7[g_end]\n",
      "---\n",
      "[g_start]1.d4 d5 2.Nf3 Nf6 3.c4 dxc4 4.Nc3 e6 5.e3 c5 6.Bxc4 a6 7.a4 Nc6 8.O-O Be7 9.dxc5 Bxc5 10.Qxd8+ Kxd8 11.e4 Ng4 12.Bf4 f6 13.h3 Nge5 14.Nxe5 Nxe5 15.Be2 b6 16.Rab1 Ke7 17.Rfd1 Rd8 18.Rxd8 Kxd8 19.b4 Bd6 20.Be3 Nd7 21.b5 a5 22.Rd1 Ke7 23.Nb1 Nc5 24.Nd2 Nxa4 25.Nc4 Bc5 26.Bxc5+ bxc5 27.Rc1 Rb8 28.Nxa5 Bd7 29.Bf1 Rc8 30.Ra1 Nb6 31.Nc4 Ra8 32.Rxa8 Nxa8 33.b6 Bc6 34.Na5 Bxe4 35.b7 Bxb7 36.Nxb7[g_end]\n",
      "---\n"
     ]
    }
   ],
   "source": [
    "import random\n",
    "\n",
    "test = load_from_disk(dataset_path=SAMPLE_OUTPUT_PATH)\n",
    "\n",
    "pgns = []\n",
    "\n",
    "for x in test[\"train\"].select_columns(\"PGN\").to_list():\n",
    "    pgns.append(x[\"PGN\"])\n",
    "\n",
    "random_items = random.sample(pgns, 5)\n",
    "\n",
    "for item in random_items:\n",
    "    print(item)\n",
    "    print(\"---\")"
   ]
  },
  {
   "cell_type": "code",
   "execution_count": 13,
   "metadata": {},
   "outputs": [],
   "source": [
    "train = dataset[\"train\"].train_test_split(test_size=0.9, seed=1997)\n",
    "temp_dataset = train[\"test\"].train_test_split(test_size=0.5, seed=1997)\n",
    "\n",
    "dataset_dict = {\n",
    "    \"train\": train,\n",
    "    \"test\": temp_dataset[\"train\"],\n",
    "    \"validation\": temp_dataset[\"test\"],\n",
    "}"
   ]
  },
  {
   "cell_type": "code",
   "execution_count": 14,
   "metadata": {},
   "outputs": [
    {
     "data": {
      "application/vnd.jupyter.widget-view+json": {
       "model_id": "36023058e0d84b919defff42d739a9fb",
       "version_major": 2,
       "version_minor": 0
      },
      "text/plain": [
       "Saving the dataset (0/1 shards):   0%|          | 0/10000 [00:00<?, ? examples/s]"
      ]
     },
     "metadata": {},
     "output_type": "display_data"
    },
    {
     "data": {
      "application/vnd.jupyter.widget-view+json": {
       "model_id": "768c7007fe3d413f82e3afd41663fdfc",
       "version_major": 2,
       "version_minor": 0
      },
      "text/plain": [
       "Saving the dataset (0/1 shards):   0%|          | 0/500 [00:00<?, ? examples/s]"
      ]
     },
     "metadata": {},
     "output_type": "display_data"
    },
    {
     "data": {
      "application/vnd.jupyter.widget-view+json": {
       "model_id": "3ecd2c16ead94f9d9cb66080f9bf6997",
       "version_major": 2,
       "version_minor": 0
      },
      "text/plain": [
       "Saving the dataset (0/1 shards):   0%|          | 0/500 [00:00<?, ? examples/s]"
      ]
     },
     "metadata": {},
     "output_type": "display_data"
    }
   ],
   "source": [
    "dataset_dict = DatasetDict(sample_dataset_dict)\n",
    "\n",
    "dataset_dict.save_to_disk(DATASET_OUTPUT_PATH)"
   ]
  }
 ],
 "metadata": {
  "kernelspec": {
   "display_name": ".venv",
   "language": "python",
   "name": "python3"
  },
  "language_info": {
   "codemirror_mode": {
    "name": "ipython",
    "version": 3
   },
   "file_extension": ".py",
   "mimetype": "text/x-python",
   "name": "python",
   "nbconvert_exporter": "python",
   "pygments_lexer": "ipython3",
   "version": "3.12.8"
  }
 },
 "nbformat": 4,
 "nbformat_minor": 2
}
