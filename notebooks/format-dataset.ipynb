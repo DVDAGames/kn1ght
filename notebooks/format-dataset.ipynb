{
 "cells": [
  {
   "cell_type": "code",
   "execution_count": 1,
   "metadata": {},
   "outputs": [],
   "source": [
    "%%capture\n",
    "!uv pip install polars kagglehub"
   ]
  },
  {
   "cell_type": "code",
   "execution_count": 2,
   "metadata": {},
   "outputs": [
    {
     "name": "stderr",
     "output_type": "stream",
     "text": [
      "/Users/ericallen/Development/_scratchpad/kn1ght/.venv/lib/python3.13/site-packages/tqdm/auto.py:21: TqdmWarning: IProgress not found. Please update jupyter and ipywidgets. See https://ipywidgets.readthedocs.io/en/stable/user_install.html\n",
      "  from .autonotebook import tqdm as notebook_tqdm\n"
     ]
    }
   ],
   "source": [
    "import polars as pl\n",
    "import kagglehub"
   ]
  },
  {
   "cell_type": "code",
   "execution_count": 3,
   "metadata": {},
   "outputs": [],
   "source": [
    "file = \"all_with_filtered_anotations_since1998.txt\"\n",
    "path = kagglehub.dataset_download(\"milesh1/35-million-chess-games\")\n",
    "\n",
    "filepath = path + \"/\" + file\n",
    "\n",
    "contents = open(filepath).read()"
   ]
  },
  {
   "cell_type": "code",
   "execution_count": 4,
   "metadata": {},
   "outputs": [],
   "source": [
    "# remove first five lines of the file\n",
    "unformattedGames = contents.split(\"\\n\")\n",
    "\n",
    "# this will store our formatted dataset\n",
    "formattedGames = []"
   ]
  },
  {
   "cell_type": "code",
   "execution_count": 5,
   "metadata": {},
   "outputs": [],
   "source": [
    "# iterate through the games and format them properly\n",
    "for line in unformattedGames:\n",
    "    data = line.split(\" ### \")\n",
    "\n",
    "    if len(data) != 2:\n",
    "        continue\n",
    "\n",
    "    metadata = data[0].split(\" \")\n",
    "    game = data[1]\n",
    "\n",
    "    date = metadata[1]\n",
    "    result = metadata[2]\n",
    "    whiteElo = metadata[3]\n",
    "    blackElo = metadata[4]\n",
    "\n",
    "    turns = game.split(\" W\")\n",
    "\n",
    "    gameString = []\n",
    "\n",
    "    # iterate through turns\n",
    "    for i, turn in enumerate(turns):\n",
    "        # split turn on on space\n",
    "        moves = turn.split(\" \")\n",
    "\n",
    "        # iterate through moves\n",
    "        for move in moves:\n",
    "            move.strip()\n",
    "\n",
    "            if not move:\n",
    "                continue\n",
    "\n",
    "            if move[0] == \"W\":\n",
    "                moves[moves.index(move)] = move[1:]\n",
    "            # if move starts with a B, remove the B and the number that follows\n",
    "            elif move[0] == \"B\":\n",
    "                prefix = f\"B{i + 1}.\"\n",
    "                moves[moves.index(move)] = move[len(prefix) :]\n",
    "            else:\n",
    "                moves[moves.index(move)] = move\n",
    "\n",
    "        # join the moves into a single string and add the moves to the game\n",
    "        gameString.append(\" \".join(moves))\n",
    "\n",
    "    formattedGames.append(\n",
    "        {\n",
    "            \"Date\": date,\n",
    "            \"Result\": result,\n",
    "            \"WhiteElo\": whiteElo,\n",
    "            \"BlackElo\": blackElo,\n",
    "            \"PGN\": \" \".join(gameString).strip(),\n",
    "        }\n",
    "    )"
   ]
  },
  {
   "cell_type": "code",
   "execution_count": 6,
   "metadata": {},
   "outputs": [],
   "source": [
    "df = pl.DataFrame(formattedGames)"
   ]
  },
  {
   "cell_type": "code",
   "execution_count": 7,
   "metadata": {},
   "outputs": [
    {
     "data": {
      "text/html": [
       "<div><style>\n",
       ".dataframe > thead > tr,\n",
       ".dataframe > tbody > tr {\n",
       "  text-align: right;\n",
       "  white-space: pre-wrap;\n",
       "}\n",
       "</style>\n",
       "<small>shape: (5, 5)</small><table border=\"1\" class=\"dataframe\"><thead><tr><th>Date</th><th>Result</th><th>WhiteElo</th><th>BlackElo</th><th>PGN</th></tr><tr><td>str</td><td>str</td><td>str</td><td>str</td><td>str</td></tr></thead><tbody><tr><td>&quot;2000.03.14&quot;</td><td>&quot;1-0&quot;</td><td>&quot;2851&quot;</td><td>&quot;None&quot;</td><td>&quot;1.d4 d5 2.c4 e6 3.Nc3 Nf6 4.cx…</td></tr><tr><td>&quot;2000.03.14&quot;</td><td>&quot;1-0&quot;</td><td>&quot;2851&quot;</td><td>&quot;None&quot;</td><td>&quot;1.e4 d5 2.exd5 Qxd5 3.Nc3 Qa5 …</td></tr><tr><td>&quot;1999.11.20&quot;</td><td>&quot;1-0&quot;</td><td>&quot;2851&quot;</td><td>&quot;None&quot;</td><td>&quot;1.e4 e5 2.Nf3 Nc6 3.Bc4 Bc5 4.…</td></tr><tr><td>&quot;1999.11.20&quot;</td><td>&quot;1-0&quot;</td><td>&quot;2851&quot;</td><td>&quot;None&quot;</td><td>&quot;1.e4 d5 2.exd5 Qxd5 3.Nc3 Qa5 …</td></tr><tr><td>&quot;2000.02.20&quot;</td><td>&quot;1/2-1/2&quot;</td><td>&quot;2851&quot;</td><td>&quot;2633&quot;</td><td>&quot;1.e4 e5 2.Nf3 Nc6 3.Bb5 a6 4.B…</td></tr></tbody></table></div>"
      ],
      "text/plain": [
       "shape: (5, 5)\n",
       "┌────────────┬─────────┬──────────┬──────────┬─────────────────────────────────┐\n",
       "│ Date       ┆ Result  ┆ WhiteElo ┆ BlackElo ┆ PGN                             │\n",
       "│ ---        ┆ ---     ┆ ---      ┆ ---      ┆ ---                             │\n",
       "│ str        ┆ str     ┆ str      ┆ str      ┆ str                             │\n",
       "╞════════════╪═════════╪══════════╪══════════╪═════════════════════════════════╡\n",
       "│ 2000.03.14 ┆ 1-0     ┆ 2851     ┆ None     ┆ 1.d4 d5 2.c4 e6 3.Nc3 Nf6 4.cx… │\n",
       "│ 2000.03.14 ┆ 1-0     ┆ 2851     ┆ None     ┆ 1.e4 d5 2.exd5 Qxd5 3.Nc3 Qa5 … │\n",
       "│ 1999.11.20 ┆ 1-0     ┆ 2851     ┆ None     ┆ 1.e4 e5 2.Nf3 Nc6 3.Bc4 Bc5 4.… │\n",
       "│ 1999.11.20 ┆ 1-0     ┆ 2851     ┆ None     ┆ 1.e4 d5 2.exd5 Qxd5 3.Nc3 Qa5 … │\n",
       "│ 2000.02.20 ┆ 1/2-1/2 ┆ 2851     ┆ 2633     ┆ 1.e4 e5 2.Nf3 Nc6 3.Bb5 a6 4.B… │\n",
       "└────────────┴─────────┴──────────┴──────────┴─────────────────────────────────┘"
      ]
     },
     "execution_count": 7,
     "metadata": {},
     "output_type": "execute_result"
    }
   ],
   "source": [
    "df.head()"
   ]
  },
  {
   "cell_type": "code",
   "execution_count": 8,
   "metadata": {},
   "outputs": [],
   "source": [
    "# save the formatted dataset to a csv file in the data directory\n",
    "# current date in yyyy-mm-dd format\n",
    "import datetime\n",
    "\n",
    "date = datetime.datetime.now().strftime(\"%Y-%m-%d\")\n",
    "\n",
    "df.filter(pl.col(\"PGN\").is_not_null()).write_csv(f\"../.data/chess_games_{date}.csv\")"
   ]
  }
 ],
 "metadata": {
  "kernelspec": {
   "display_name": ".venv",
   "language": "python",
   "name": "python3"
  },
  "language_info": {
   "codemirror_mode": {
    "name": "ipython",
    "version": 3
   },
   "file_extension": ".py",
   "mimetype": "text/x-python",
   "name": "python",
   "nbconvert_exporter": "python",
   "pygments_lexer": "ipython3",
   "version": "3.12.8"
  }
 },
 "nbformat": 4,
 "nbformat_minor": 2
}
